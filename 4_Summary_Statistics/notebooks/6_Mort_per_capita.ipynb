{
 "cells": [
  {
   "cell_type": "markdown",
   "id": "c2895ba6",
   "metadata": {},
   "source": [
    "# average per capita by age and percentage of people by age and vantage mortgage who EVER have had a mortgage\n",
    "\n",
    "What do the average per capita mortgage levels would be once you adjust for the joint mortgage issue. this could be different for you vs old people since they have different likelihood of being in a relationship. just take the observed likelihood that people in the different age groups hold mortgages jointly or individually."
   ]
  },
  {
   "cell_type": "code",
   "execution_count": 1,
   "id": "25f0bcf7",
   "metadata": {},
   "outputs": [],
   "source": [
    "# Setting up \n",
    "\n",
    "import pandas as pd\n",
    "import numpy as np\n",
    "\n",
    "pd.set_option('display.max_rows', None)\n",
    "pd.set_option('display.max_columns', None)\n",
    "pd.set_option('display.width', None)\n",
    "pd.set_option('display.max_colwidth', None)\n",
    "\n",
    "sample = \"~//projects//equifaxmacro_proj//EquiFax3//2_10_Percent_Sample_Construction//output//sample//\"\n",
    "output_3 = \"~//projects//equifaxmacro_proj//EquiFax3//3_Balance_In_And_Out_Construction//output//\""
   ]
  },
  {
   "cell_type": "code",
   "execution_count": 169,
   "id": "ce47e42d",
   "metadata": {},
   "outputs": [],
   "source": [
    "# read in a month\n",
    "cols = ['consumer_id', 'trade_id', 'product_category', 'balance', 'ecoa', 'consumer_age_archive']\n",
    "\n",
    "month_str = sample + \"202001_10perc.parquet\"\n",
    "mon = pd.read_parquet(month_str, columns = cols)"
   ]
  },
  {
   "cell_type": "code",
   "execution_count": 170,
   "id": "c33e39de",
   "metadata": {},
   "outputs": [],
   "source": [
    "# only keep first mortgages\n",
    "total_ppl = mon.groupby('consumer_age_archive').apply(lambda group: len(group.consumer_id.unique()))\n",
    "mon = mon[mon.product_category == \"FM\"]\n",
    "\n",
    "total_mort_ppl = mon.groupby('consumer_age_archive').apply(lambda group: len(group.consumer_id.unique()))"
   ]
  },
  {
   "cell_type": "code",
   "execution_count": 160,
   "id": "ded3734f",
   "metadata": {},
   "outputs": [
    {
     "data": {
      "text/html": [
       "<div>\n",
       "<style scoped>\n",
       "    .dataframe tbody tr th:only-of-type {\n",
       "        vertical-align: middle;\n",
       "    }\n",
       "\n",
       "    .dataframe tbody tr th {\n",
       "        vertical-align: top;\n",
       "    }\n",
       "\n",
       "    .dataframe thead th {\n",
       "        text-align: right;\n",
       "    }\n",
       "</style>\n",
       "<table border=\"1\" class=\"dataframe\">\n",
       "  <thead>\n",
       "    <tr style=\"text-align: right;\">\n",
       "      <th></th>\n",
       "      <th>consumer_id</th>\n",
       "      <th>trade_id</th>\n",
       "      <th>product_category</th>\n",
       "      <th>balance</th>\n",
       "      <th>ecoa</th>\n",
       "      <th>consumer_age_archive</th>\n",
       "    </tr>\n",
       "  </thead>\n",
       "  <tbody>\n",
       "    <tr>\n",
       "      <th>4</th>\n",
       "      <td>23291220</td>\n",
       "      <td>1031986843</td>\n",
       "      <td>FM</td>\n",
       "      <td>327820</td>\n",
       "      <td>I</td>\n",
       "      <td>3</td>\n",
       "    </tr>\n",
       "    <tr>\n",
       "      <th>939</th>\n",
       "      <td>103838</td>\n",
       "      <td>1032019573</td>\n",
       "      <td>FM</td>\n",
       "      <td>189463</td>\n",
       "      <td>I</td>\n",
       "      <td>3</td>\n",
       "    </tr>\n",
       "    <tr>\n",
       "      <th>1393</th>\n",
       "      <td>14973534</td>\n",
       "      <td>1029445310</td>\n",
       "      <td>FM</td>\n",
       "      <td>241139</td>\n",
       "      <td>J</td>\n",
       "      <td>2</td>\n",
       "    </tr>\n",
       "    <tr>\n",
       "      <th>1394</th>\n",
       "      <td>21395140</td>\n",
       "      <td>1029445310</td>\n",
       "      <td>FM</td>\n",
       "      <td>241139</td>\n",
       "      <td>J</td>\n",
       "      <td>2</td>\n",
       "    </tr>\n",
       "    <tr>\n",
       "      <th>1400</th>\n",
       "      <td>10826332</td>\n",
       "      <td>1032043676</td>\n",
       "      <td>FM</td>\n",
       "      <td>195921</td>\n",
       "      <td>I</td>\n",
       "      <td>2</td>\n",
       "    </tr>\n",
       "  </tbody>\n",
       "</table>\n",
       "</div>"
      ],
      "text/plain": [
       "      consumer_id    trade_id product_category  balance ecoa  \\\n",
       "4        23291220  1031986843               FM   327820    I   \n",
       "939        103838  1032019573               FM   189463    I   \n",
       "1393     14973534  1029445310               FM   241139    J   \n",
       "1394     21395140  1029445310               FM   241139    J   \n",
       "1400     10826332  1032043676               FM   195921    I   \n",
       "\n",
       "      consumer_age_archive  \n",
       "4                        3  \n",
       "939                      3  \n",
       "1393                     2  \n",
       "1394                     2  \n",
       "1400                     2  "
      ]
     },
     "execution_count": 160,
     "metadata": {},
     "output_type": "execute_result"
    }
   ],
   "source": [
    "mon.head()"
   ]
  },
  {
   "cell_type": "code",
   "execution_count": 161,
   "id": "a70a2c82",
   "metadata": {},
   "outputs": [
    {
     "data": {
      "text/plain": [
       "(811985, 6)"
      ]
     },
     "execution_count": 161,
     "metadata": {},
     "output_type": "execute_result"
    }
   ],
   "source": [
    "mon.shape"
   ]
  },
  {
   "cell_type": "code",
   "execution_count": 162,
   "id": "12bbf0c5",
   "metadata": {},
   "outputs": [],
   "source": [
    "# we want to know the percentage of people that have at least one joint mortgage. Let's figure out the number of people first\n",
    "\n"
   ]
  },
  {
   "cell_type": "code",
   "execution_count": 163,
   "id": "58b78d78",
   "metadata": {},
   "outputs": [],
   "source": [
    "# now let's do the same, but filter out all the people without joint mortgages\n",
    "\n",
    "joint = mon[mon.ecoa==\"J\"]"
   ]
  },
  {
   "cell_type": "code",
   "execution_count": 164,
   "id": "a757e896",
   "metadata": {},
   "outputs": [],
   "source": [
    "joint_ppl = joint.groupby('consumer_age_archive').apply(lambda group: len(group.consumer_id.unique()))"
   ]
  },
  {
   "cell_type": "code",
   "execution_count": 165,
   "id": "e01bbb64",
   "metadata": {},
   "outputs": [
    {
     "data": {
      "text/plain": [
       "consumer_age_archive\n",
       "0    0.669550\n",
       "1    0.564372\n",
       "2    0.599753\n",
       "3    0.639210\n",
       "4    0.653657\n",
       "5    0.666171\n",
       "6    0.681523\n",
       "7    0.650927\n",
       "dtype: float64"
      ]
     },
     "execution_count": 165,
     "metadata": {},
     "output_type": "execute_result"
    }
   ],
   "source": []
  },
  {
   "cell_type": "markdown",
   "id": "b403969d",
   "metadata": {},
   "source": [
    "now, we want to adjust the per mortgage balance per capita \n",
    "From Antoinette: \"just take the observed likelihood that people in the different age groups hold mortgages jointly or individually.\"\n",
    "\n",
    "Isn't the best option still to just drop half of all the joint tradlines? "
   ]
  },
  {
   "cell_type": "code",
   "execution_count": 148,
   "id": "28c01b62",
   "metadata": {},
   "outputs": [
    {
     "data": {
      "text/html": [
       "<div>\n",
       "<style scoped>\n",
       "    .dataframe tbody tr th:only-of-type {\n",
       "        vertical-align: middle;\n",
       "    }\n",
       "\n",
       "    .dataframe tbody tr th {\n",
       "        vertical-align: top;\n",
       "    }\n",
       "\n",
       "    .dataframe thead th {\n",
       "        text-align: right;\n",
       "    }\n",
       "</style>\n",
       "<table border=\"1\" class=\"dataframe\">\n",
       "  <thead>\n",
       "    <tr style=\"text-align: right;\">\n",
       "      <th></th>\n",
       "      <th>consumer_id</th>\n",
       "      <th>trade_id</th>\n",
       "      <th>product_category</th>\n",
       "      <th>balance</th>\n",
       "      <th>ecoa</th>\n",
       "      <th>consumer_age_archive</th>\n",
       "    </tr>\n",
       "  </thead>\n",
       "  <tbody>\n",
       "    <tr>\n",
       "      <th>4</th>\n",
       "      <td>23291220</td>\n",
       "      <td>1031986843</td>\n",
       "      <td>FM</td>\n",
       "      <td>327820</td>\n",
       "      <td>I</td>\n",
       "      <td>3</td>\n",
       "    </tr>\n",
       "    <tr>\n",
       "      <th>939</th>\n",
       "      <td>103838</td>\n",
       "      <td>1032019573</td>\n",
       "      <td>FM</td>\n",
       "      <td>189463</td>\n",
       "      <td>I</td>\n",
       "      <td>3</td>\n",
       "    </tr>\n",
       "    <tr>\n",
       "      <th>1393</th>\n",
       "      <td>14973534</td>\n",
       "      <td>1029445310</td>\n",
       "      <td>FM</td>\n",
       "      <td>241139</td>\n",
       "      <td>J</td>\n",
       "      <td>2</td>\n",
       "    </tr>\n",
       "    <tr>\n",
       "      <th>1394</th>\n",
       "      <td>21395140</td>\n",
       "      <td>1029445310</td>\n",
       "      <td>FM</td>\n",
       "      <td>241139</td>\n",
       "      <td>J</td>\n",
       "      <td>2</td>\n",
       "    </tr>\n",
       "    <tr>\n",
       "      <th>1400</th>\n",
       "      <td>10826332</td>\n",
       "      <td>1032043676</td>\n",
       "      <td>FM</td>\n",
       "      <td>195921</td>\n",
       "      <td>I</td>\n",
       "      <td>2</td>\n",
       "    </tr>\n",
       "  </tbody>\n",
       "</table>\n",
       "</div>"
      ],
      "text/plain": [
       "      consumer_id    trade_id product_category  balance ecoa  \\\n",
       "4        23291220  1031986843               FM   327820    I   \n",
       "939        103838  1032019573               FM   189463    I   \n",
       "1393     14973534  1029445310               FM   241139    J   \n",
       "1394     21395140  1029445310               FM   241139    J   \n",
       "1400     10826332  1032043676               FM   195921    I   \n",
       "\n",
       "      consumer_age_archive  \n",
       "4                        3  \n",
       "939                      3  \n",
       "1393                     2  \n",
       "1394                     2  \n",
       "1400                     2  "
      ]
     },
     "execution_count": 148,
     "metadata": {},
     "output_type": "execute_result"
    }
   ],
   "source": [
    "mon.head()"
   ]
  },
  {
   "cell_type": "code",
   "execution_count": 149,
   "id": "6d768408",
   "metadata": {},
   "outputs": [],
   "source": [
    "# get all the mortgages again\n",
    "# drop half of all the joint mortgages \n",
    "# figure out the balances per capita (by state?)\n",
    "mort = mon[mon.product_category == \"FM\"]\n",
    "\n",
    "# separate individual and joint\n",
    "ind = mort[mort.ecoa == \"I\"]\n",
    "joint = mort[mort.ecoa == \"J\"]"
   ]
  },
  {
   "cell_type": "code",
   "execution_count": 150,
   "id": "5c214168",
   "metadata": {},
   "outputs": [
    {
     "data": {
      "text/html": [
       "<div>\n",
       "<style scoped>\n",
       "    .dataframe tbody tr th:only-of-type {\n",
       "        vertical-align: middle;\n",
       "    }\n",
       "\n",
       "    .dataframe tbody tr th {\n",
       "        vertical-align: top;\n",
       "    }\n",
       "\n",
       "    .dataframe thead th {\n",
       "        text-align: right;\n",
       "    }\n",
       "</style>\n",
       "<table border=\"1\" class=\"dataframe\">\n",
       "  <thead>\n",
       "    <tr style=\"text-align: right;\">\n",
       "      <th></th>\n",
       "      <th>consumer_id</th>\n",
       "      <th>trade_id</th>\n",
       "      <th>product_category</th>\n",
       "      <th>balance</th>\n",
       "      <th>ecoa</th>\n",
       "      <th>consumer_age_archive</th>\n",
       "    </tr>\n",
       "  </thead>\n",
       "  <tbody>\n",
       "    <tr>\n",
       "      <th>1393</th>\n",
       "      <td>14973534</td>\n",
       "      <td>1029445310</td>\n",
       "      <td>FM</td>\n",
       "      <td>241139</td>\n",
       "      <td>J</td>\n",
       "      <td>2</td>\n",
       "    </tr>\n",
       "    <tr>\n",
       "      <th>1394</th>\n",
       "      <td>21395140</td>\n",
       "      <td>1029445310</td>\n",
       "      <td>FM</td>\n",
       "      <td>241139</td>\n",
       "      <td>J</td>\n",
       "      <td>2</td>\n",
       "    </tr>\n",
       "    <tr>\n",
       "      <th>1444</th>\n",
       "      <td>17189636</td>\n",
       "      <td>717601721</td>\n",
       "      <td>FM</td>\n",
       "      <td>238661</td>\n",
       "      <td>J</td>\n",
       "      <td>5</td>\n",
       "    </tr>\n",
       "    <tr>\n",
       "      <th>1469</th>\n",
       "      <td>22144587</td>\n",
       "      <td>929564376</td>\n",
       "      <td>FM</td>\n",
       "      <td>90094</td>\n",
       "      <td>J</td>\n",
       "      <td>4</td>\n",
       "    </tr>\n",
       "    <tr>\n",
       "      <th>1621</th>\n",
       "      <td>26169177</td>\n",
       "      <td>717672696</td>\n",
       "      <td>FM</td>\n",
       "      <td>141519</td>\n",
       "      <td>J</td>\n",
       "      <td>3</td>\n",
       "    </tr>\n",
       "  </tbody>\n",
       "</table>\n",
       "</div>"
      ],
      "text/plain": [
       "      consumer_id    trade_id product_category  balance ecoa  \\\n",
       "1393     14973534  1029445310               FM   241139    J   \n",
       "1394     21395140  1029445310               FM   241139    J   \n",
       "1444     17189636   717601721               FM   238661    J   \n",
       "1469     22144587   929564376               FM    90094    J   \n",
       "1621     26169177   717672696               FM   141519    J   \n",
       "\n",
       "      consumer_age_archive  \n",
       "1393                     2  \n",
       "1394                     2  \n",
       "1444                     5  \n",
       "1469                     4  \n",
       "1621                     3  "
      ]
     },
     "execution_count": 150,
     "metadata": {},
     "output_type": "execute_result"
    }
   ],
   "source": [
    "# uhhhh, I guess we just drop half the tradelines \n",
    "\n",
    "joint.head()"
   ]
  },
  {
   "cell_type": "code",
   "execution_count": 151,
   "id": "4eabedb0",
   "metadata": {},
   "outputs": [
    {
     "data": {
      "text/plain": [
       "(521631, 6)"
      ]
     },
     "execution_count": 151,
     "metadata": {},
     "output_type": "execute_result"
    }
   ],
   "source": [
    "# okay, so we can just drop half the tradelines directly? \n",
    "joint.shape"
   ]
  },
  {
   "cell_type": "code",
   "execution_count": 152,
   "id": "eaacc891",
   "metadata": {},
   "outputs": [
    {
     "data": {
      "text/plain": [
       "(260816, 6)"
      ]
     },
     "execution_count": 152,
     "metadata": {},
     "output_type": "execute_result"
    }
   ],
   "source": [
    "joint = joint.iloc[0::2,:]\n",
    "joint.shape"
   ]
  },
  {
   "cell_type": "code",
   "execution_count": 153,
   "id": "3695f926",
   "metadata": {},
   "outputs": [],
   "source": [
    "new_mort = pd.concat([ind, joint])"
   ]
  },
  {
   "cell_type": "code",
   "execution_count": 154,
   "id": "c5dfc636",
   "metadata": {},
   "outputs": [
    {
     "data": {
      "text/plain": [
       "consumer_age_archive\n",
       "0      227305532\n",
       "1      504807271\n",
       "2    11521172388\n",
       "3    23981317551\n",
       "4    24795232805\n",
       "5    19699044695\n",
       "6    10656441240\n",
       "7     3714570199\n",
       "Name: balance, dtype: int64"
      ]
     },
     "execution_count": 154,
     "metadata": {},
     "output_type": "execute_result"
    }
   ],
   "source": [
    "# this is balance \n",
    "\n",
    "new_mort.groupby('consumer_age_archive').sum()['balance']"
   ]
  },
  {
   "cell_type": "code",
   "execution_count": 155,
   "id": "52305f4c",
   "metadata": {},
   "outputs": [
    {
     "data": {
      "text/plain": [
       "consumer_age_archive\n",
       "0      5332\n",
       "1    178411\n",
       "2    398606\n",
       "3    383249\n",
       "4    376947\n",
       "5    394799\n",
       "6    309516\n",
       "7    242970\n",
       "dtype: int64"
      ]
     },
     "execution_count": 155,
     "metadata": {},
     "output_type": "execute_result"
    }
   ],
   "source": [
    "total_ppl"
   ]
  },
  {
   "cell_type": "code",
   "execution_count": 156,
   "id": "8c78159f",
   "metadata": {},
   "outputs": [
    {
     "data": {
      "text/plain": [
       "consumer_age_archive\n",
       "0    42630.444861\n",
       "1     2829.462707\n",
       "2    28903.660226\n",
       "3    62573.725048\n",
       "4    65779.095748\n",
       "5    49896.389543\n",
       "6    34429.371147\n",
       "7    15288.184545\n",
       "dtype: float64"
      ]
     },
     "execution_count": 156,
     "metadata": {},
     "output_type": "execute_result"
    }
   ],
   "source": [
    "# this is balance \n",
    "\n",
    "new_mort.groupby('consumer_age_archive').sum()['balance']/total_ppl"
   ]
  },
  {
   "cell_type": "code",
   "execution_count": 157,
   "id": "78aa0531",
   "metadata": {},
   "outputs": [
    {
     "data": {
      "text/plain": [
       "41531.42009712511"
      ]
     },
     "execution_count": 157,
     "metadata": {},
     "output_type": "execute_result"
    }
   ],
   "source": [
    "new_mort['balance'].sum()/total_ppl.sum()"
   ]
  },
  {
   "cell_type": "code",
   "execution_count": 180,
   "id": "4d0bacbd",
   "metadata": {},
   "outputs": [
    {
     "data": {
      "text/plain": [
       "63463.98103702022"
      ]
     },
     "execution_count": 180,
     "metadata": {},
     "output_type": "execute_result"
    }
   ],
   "source": [
    "mort['balance'].sum()/total_ppl.sum()"
   ]
  },
  {
   "cell_type": "code",
   "execution_count": 184,
   "id": "35909de7",
   "metadata": {},
   "outputs": [
    {
     "data": {
      "text/html": [
       "<div>\n",
       "<style scoped>\n",
       "    .dataframe tbody tr th:only-of-type {\n",
       "        vertical-align: middle;\n",
       "    }\n",
       "\n",
       "    .dataframe tbody tr th {\n",
       "        vertical-align: top;\n",
       "    }\n",
       "\n",
       "    .dataframe thead th {\n",
       "        text-align: right;\n",
       "    }\n",
       "</style>\n",
       "<table border=\"1\" class=\"dataframe\">\n",
       "  <thead>\n",
       "    <tr style=\"text-align: right;\">\n",
       "      <th></th>\n",
       "      <th>0</th>\n",
       "    </tr>\n",
       "  </thead>\n",
       "  <tbody>\n",
       "    <tr>\n",
       "      <th>all_mort_per_capita</th>\n",
       "      <td>41531.420097</td>\n",
       "    </tr>\n",
       "    <tr>\n",
       "      <th>all_perc_joint</th>\n",
       "      <td>0.650321</td>\n",
       "    </tr>\n",
       "  </tbody>\n",
       "</table>\n",
       "</div>"
      ],
      "text/plain": [
       "                                0\n",
       "all_mort_per_capita  41531.420097\n",
       "all_perc_joint           0.650321"
      ]
     },
     "execution_count": 184,
     "metadata": {},
     "output_type": "execute_result"
    }
   ],
   "source": [
    "finalstat = pd.DataFrame([new_mort['balance'].sum()/total_ppl.sum(), joint_ppl.sum()/total_mort_ppl.sum()])\n",
    "finalstat.index = ['all_mort_per_capita', 'all_perc_joint']\n",
    "finalstat"
   ]
  },
  {
   "cell_type": "code",
   "execution_count": 166,
   "id": "e9a31186",
   "metadata": {},
   "outputs": [],
   "source": [
    "# okay, so we want two things: \n",
    "# 1) percentage of mortgages that are joint mortgages by age? And overall? \n",
    "# 2) percentage of people with a mortgage by age (and overall)\n",
    "# 3) mortgage per capita, by age and overall "
   ]
  },
  {
   "cell_type": "code",
   "execution_count": 173,
   "id": "3dfb4186",
   "metadata": {},
   "outputs": [],
   "source": [
    "perc_mort = joint_ppl/total_mort_ppl\n",
    "perc_mort.index = ['Unknown',\n",
    "                    '18–24',\n",
    "                    '25–34',\n",
    "                    '35-44',\n",
    "                    '45-54',\n",
    "                    '55–64',\n",
    "                    '65–74',\n",
    "                    '75+'] \n",
    "\n",
    "perc_mort.index = perc_mort.index + \"_mort_perc\""
   ]
  },
  {
   "cell_type": "code",
   "execution_count": 175,
   "id": "54430359",
   "metadata": {},
   "outputs": [],
   "source": [
    "perc_joint = total_mort_ppl/total_ppl\n",
    "perc_joint.index = ['Unknown',\n",
    "                    '18–24',\n",
    "                    '25–34',\n",
    "                    '35-44',\n",
    "                    '45-54',\n",
    "                    '55–64',\n",
    "                    '65–74',\n",
    "                    '75+'] \n",
    "\n",
    "perc_joint.index = perc_joint.index + \"_perc_joint\""
   ]
  },
  {
   "cell_type": "code",
   "execution_count": 176,
   "id": "b2eb60f4",
   "metadata": {},
   "outputs": [],
   "source": [
    "mort_per_capita = new_mort.groupby('consumer_age_archive').sum()['balance']/total_ppl\n",
    "mort_per_capita.index = ['Unknown',\n",
    "                    '18–24',\n",
    "                    '25–34',\n",
    "                    '35-44',\n",
    "                    '45-54',\n",
    "                    '55–64',\n",
    "                    '65–74',\n",
    "                    '75+'] \n",
    "\n",
    "mort_per_capita.index = mort_per_capita.index + \"_mort_per_capita\""
   ]
  },
  {
   "cell_type": "code",
   "execution_count": 185,
   "id": "5289a025",
   "metadata": {},
   "outputs": [
    {
     "data": {
      "text/html": [
       "<div>\n",
       "<style scoped>\n",
       "    .dataframe tbody tr th:only-of-type {\n",
       "        vertical-align: middle;\n",
       "    }\n",
       "\n",
       "    .dataframe tbody tr th {\n",
       "        vertical-align: top;\n",
       "    }\n",
       "\n",
       "    .dataframe thead th {\n",
       "        text-align: right;\n",
       "    }\n",
       "</style>\n",
       "<table border=\"1\" class=\"dataframe\">\n",
       "  <thead>\n",
       "    <tr style=\"text-align: right;\">\n",
       "      <th></th>\n",
       "      <th>0</th>\n",
       "    </tr>\n",
       "  </thead>\n",
       "  <tbody>\n",
       "    <tr>\n",
       "      <th>Unknown_mort_perc</th>\n",
       "      <td>0.669550</td>\n",
       "    </tr>\n",
       "    <tr>\n",
       "      <th>18–24_mort_perc</th>\n",
       "      <td>0.564372</td>\n",
       "    </tr>\n",
       "    <tr>\n",
       "      <th>25–34_mort_perc</th>\n",
       "      <td>0.599753</td>\n",
       "    </tr>\n",
       "    <tr>\n",
       "      <th>35-44_mort_perc</th>\n",
       "      <td>0.639210</td>\n",
       "    </tr>\n",
       "    <tr>\n",
       "      <th>45-54_mort_perc</th>\n",
       "      <td>0.653657</td>\n",
       "    </tr>\n",
       "    <tr>\n",
       "      <th>55–64_mort_perc</th>\n",
       "      <td>0.666171</td>\n",
       "    </tr>\n",
       "    <tr>\n",
       "      <th>65–74_mort_perc</th>\n",
       "      <td>0.681523</td>\n",
       "    </tr>\n",
       "    <tr>\n",
       "      <th>75+_mort_perc</th>\n",
       "      <td>0.650927</td>\n",
       "    </tr>\n",
       "    <tr>\n",
       "      <th>Unknown_perc_joint</th>\n",
       "      <td>0.216804</td>\n",
       "    </tr>\n",
       "    <tr>\n",
       "      <th>18–24_perc_joint</th>\n",
       "      <td>0.025643</td>\n",
       "    </tr>\n",
       "    <tr>\n",
       "      <th>25–34_perc_joint</th>\n",
       "      <td>0.206868</td>\n",
       "    </tr>\n",
       "    <tr>\n",
       "      <th>35-44_perc_joint</th>\n",
       "      <td>0.390743</td>\n",
       "    </tr>\n",
       "    <tr>\n",
       "      <th>45-54_perc_joint</th>\n",
       "      <td>0.443399</td>\n",
       "    </tr>\n",
       "    <tr>\n",
       "      <th>55–64_perc_joint</th>\n",
       "      <td>0.407040</td>\n",
       "    </tr>\n",
       "    <tr>\n",
       "      <th>65–74_perc_joint</th>\n",
       "      <td>0.318523</td>\n",
       "    </tr>\n",
       "    <tr>\n",
       "      <th>75+_perc_joint</th>\n",
       "      <td>0.160114</td>\n",
       "    </tr>\n",
       "    <tr>\n",
       "      <th>Unknown_mort_per_capita</th>\n",
       "      <td>42630.444861</td>\n",
       "    </tr>\n",
       "    <tr>\n",
       "      <th>18–24_mort_per_capita</th>\n",
       "      <td>2829.462707</td>\n",
       "    </tr>\n",
       "    <tr>\n",
       "      <th>25–34_mort_per_capita</th>\n",
       "      <td>28903.660226</td>\n",
       "    </tr>\n",
       "    <tr>\n",
       "      <th>35-44_mort_per_capita</th>\n",
       "      <td>62573.725048</td>\n",
       "    </tr>\n",
       "    <tr>\n",
       "      <th>45-54_mort_per_capita</th>\n",
       "      <td>65779.095748</td>\n",
       "    </tr>\n",
       "    <tr>\n",
       "      <th>55–64_mort_per_capita</th>\n",
       "      <td>49896.389543</td>\n",
       "    </tr>\n",
       "    <tr>\n",
       "      <th>65–74_mort_per_capita</th>\n",
       "      <td>34429.371147</td>\n",
       "    </tr>\n",
       "    <tr>\n",
       "      <th>75+_mort_per_capita</th>\n",
       "      <td>15288.184545</td>\n",
       "    </tr>\n",
       "    <tr>\n",
       "      <th>all_mort_per_capita</th>\n",
       "      <td>41531.420097</td>\n",
       "    </tr>\n",
       "    <tr>\n",
       "      <th>all_perc_joint</th>\n",
       "      <td>0.650321</td>\n",
       "    </tr>\n",
       "  </tbody>\n",
       "</table>\n",
       "</div>"
      ],
      "text/plain": [
       "                                    0\n",
       "Unknown_mort_perc            0.669550\n",
       "18–24_mort_perc              0.564372\n",
       "25–34_mort_perc              0.599753\n",
       "35-44_mort_perc              0.639210\n",
       "45-54_mort_perc              0.653657\n",
       "55–64_mort_perc              0.666171\n",
       "65–74_mort_perc              0.681523\n",
       "75+_mort_perc                0.650927\n",
       "Unknown_perc_joint           0.216804\n",
       "18–24_perc_joint             0.025643\n",
       "25–34_perc_joint             0.206868\n",
       "35-44_perc_joint             0.390743\n",
       "45-54_perc_joint             0.443399\n",
       "55–64_perc_joint             0.407040\n",
       "65–74_perc_joint             0.318523\n",
       "75+_perc_joint               0.160114\n",
       "Unknown_mort_per_capita  42630.444861\n",
       "18–24_mort_per_capita     2829.462707\n",
       "25–34_mort_per_capita    28903.660226\n",
       "35-44_mort_per_capita    62573.725048\n",
       "45-54_mort_per_capita    65779.095748\n",
       "55–64_mort_per_capita    49896.389543\n",
       "65–74_mort_per_capita    34429.371147\n",
       "75+_mort_per_capita      15288.184545\n",
       "all_mort_per_capita      41531.420097\n",
       "all_perc_joint               0.650321"
      ]
     },
     "execution_count": 185,
     "metadata": {},
     "output_type": "execute_result"
    }
   ],
   "source": [
    "row = pd.concat([perc_mort, perc_joint, mort_per_capita, finalstat])\n",
    "row"
   ]
  },
  {
   "cell_type": "markdown",
   "id": "fe97a5bb",
   "metadata": {},
   "source": [
    "# Percentage of people who have EVER had a mortgage, by age\n",
    "\n",
    "I think the best way to do this is to use the \"first_c\" column in balances in and out "
   ]
  },
  {
   "cell_type": "code",
   "execution_count": 3,
   "id": "b09a30f9",
   "metadata": {},
   "outputs": [],
   "source": [
    "biao_cols = ['first_c']\n",
    "biao_str = output_3 + \"1_balance_in_and_out.parquet\"\n",
    "\n",
    "biao = pd.read_parquet(biao_str, columns = biao_cols).reset_index()"
   ]
  },
  {
   "cell_type": "code",
   "execution_count": 10,
   "id": "4c6084af",
   "metadata": {},
   "outputs": [],
   "source": [
    "biao_mort = biao[biao.product_category == \"FM\"].drop(['trade_id', 'product_category'], axis = 1)"
   ]
  },
  {
   "cell_type": "code",
   "execution_count": 13,
   "id": "21181ef6",
   "metadata": {},
   "outputs": [],
   "source": [
    "biao_mort = biao_mort.sort_values('first_c').drop_duplicates('consumer_id', keep = 'first')"
   ]
  },
  {
   "cell_type": "code",
   "execution_count": 37,
   "id": "bb48be3f",
   "metadata": {},
   "outputs": [],
   "source": [
    "monnum = 175\n",
    "\n",
    "# read in a month\n",
    "cols = ['consumer_id', 'consumer_age_archive']\n",
    "\n",
    "month_str = sample + \"202001_10perc.parquet\"\n",
    "mon = pd.read_parquet(month_str, columns = cols).drop_duplicates()"
   ]
  },
  {
   "cell_type": "code",
   "execution_count": 34,
   "id": "3fed09df",
   "metadata": {},
   "outputs": [],
   "source": [
    "biao_mort_temp = biao_mort[biao_mort.first_c <= monnum].consumer_id"
   ]
  },
  {
   "cell_type": "code",
   "execution_count": 42,
   "id": "585fe55b",
   "metadata": {},
   "outputs": [],
   "source": [
    "total = mon.groupby('consumer_age_archive').count()"
   ]
  },
  {
   "cell_type": "code",
   "execution_count": 43,
   "id": "6dc63828",
   "metadata": {},
   "outputs": [],
   "source": [
    "group = mon[mon.consumer_id.isin(biao_mort_temp)].groupby('consumer_age_archive').count()"
   ]
  },
  {
   "cell_type": "code",
   "execution_count": 45,
   "id": "352fbf50",
   "metadata": {},
   "outputs": [
    {
     "data": {
      "text/html": [
       "<div>\n",
       "<style scoped>\n",
       "    .dataframe tbody tr th:only-of-type {\n",
       "        vertical-align: middle;\n",
       "    }\n",
       "\n",
       "    .dataframe tbody tr th {\n",
       "        vertical-align: top;\n",
       "    }\n",
       "\n",
       "    .dataframe thead th {\n",
       "        text-align: right;\n",
       "    }\n",
       "</style>\n",
       "<table border=\"1\" class=\"dataframe\">\n",
       "  <thead>\n",
       "    <tr style=\"text-align: right;\">\n",
       "      <th></th>\n",
       "      <th>consumer_id</th>\n",
       "    </tr>\n",
       "    <tr>\n",
       "      <th>consumer_age_archive</th>\n",
       "      <th></th>\n",
       "    </tr>\n",
       "  </thead>\n",
       "  <tbody>\n",
       "    <tr>\n",
       "      <th>0</th>\n",
       "      <td>0.290885</td>\n",
       "    </tr>\n",
       "    <tr>\n",
       "      <th>1</th>\n",
       "      <td>0.026915</td>\n",
       "    </tr>\n",
       "    <tr>\n",
       "      <th>2</th>\n",
       "      <td>0.233730</td>\n",
       "    </tr>\n",
       "    <tr>\n",
       "      <th>3</th>\n",
       "      <td>0.512570</td>\n",
       "    </tr>\n",
       "    <tr>\n",
       "      <th>4</th>\n",
       "      <td>0.651903</td>\n",
       "    </tr>\n",
       "    <tr>\n",
       "      <th>5</th>\n",
       "      <td>0.688616</td>\n",
       "    </tr>\n",
       "    <tr>\n",
       "      <th>6</th>\n",
       "      <td>0.645518</td>\n",
       "    </tr>\n",
       "    <tr>\n",
       "      <th>7</th>\n",
       "      <td>0.414973</td>\n",
       "    </tr>\n",
       "  </tbody>\n",
       "</table>\n",
       "</div>"
      ],
      "text/plain": [
       "                      consumer_id\n",
       "consumer_age_archive             \n",
       "0                        0.290885\n",
       "1                        0.026915\n",
       "2                        0.233730\n",
       "3                        0.512570\n",
       "4                        0.651903\n",
       "5                        0.688616\n",
       "6                        0.645518\n",
       "7                        0.414973"
      ]
     },
     "execution_count": 45,
     "metadata": {},
     "output_type": "execute_result"
    }
   ],
   "source": [
    "group/total"
   ]
  },
  {
   "cell_type": "code",
   "execution_count": null,
   "id": "3c82efbe",
   "metadata": {},
   "outputs": [],
   "source": []
  }
 ],
 "metadata": {
  "kernelspec": {
   "display_name": "Python 3 (ipykernel)",
   "language": "python",
   "name": "python3"
  },
  "language_info": {
   "codemirror_mode": {
    "name": "ipython",
    "version": 3
   },
   "file_extension": ".py",
   "mimetype": "text/x-python",
   "name": "python",
   "nbconvert_exporter": "python",
   "pygments_lexer": "ipython3",
   "version": "3.8.5"
  }
 },
 "nbformat": 4,
 "nbformat_minor": 5
}
