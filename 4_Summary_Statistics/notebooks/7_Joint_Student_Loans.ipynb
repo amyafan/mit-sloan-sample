{
 "cells": [
  {
   "cell_type": "markdown",
   "id": "9447f4f5",
   "metadata": {},
   "source": [
    "# joint student loans + joint accounts in general\n",
    "\n",
    "does the Equifax data have a flag for whether a student loan is jointly held? And would we know who is the joint holder? I wonder if we can find out if a parent co-holds the debt of a child.\n",
    "\n",
    "Also looks at how many joint accounts there are for each kind of debt. "
   ]
  },
  {
   "cell_type": "code",
   "execution_count": 1,
   "id": "17d56064",
   "metadata": {},
   "outputs": [],
   "source": [
    "# Setting up \n",
    "\n",
    "import pandas as pd\n",
    "import numpy as np\n",
    "\n",
    "pd.set_option('display.max_rows', None)\n",
    "pd.set_option('display.max_columns', None)\n",
    "pd.set_option('display.width', None)\n",
    "pd.set_option('display.max_colwidth', None)\n",
    "\n",
    "sample = \"~//projects//equifaxmacro_proj//EquiFax3//2_10_Percent_Sample_Construction//output//sample//\"\n",
    "biao = \"~//projects//equifaxmacro_proj//EquiFax3//3_Balance_In_And_Out_Construction//output//\""
   ]
  },
  {
   "cell_type": "code",
   "execution_count": 2,
   "id": "b8bd520c",
   "metadata": {},
   "outputs": [],
   "source": [
    "cols = ['consumer_id', 'trade_id', 'product_category', 'ecoa', 'balance', 'consumer_age_archive']\n",
    "\n",
    "mon_str = sample + \"202005_10perc.parquet\"\n",
    "mon = pd.read_parquet(mon_str, columns = cols)"
   ]
  },
  {
   "cell_type": "code",
   "execution_count": 47,
   "id": "bc481cdc",
   "metadata": {},
   "outputs": [],
   "source": [
    "sl = mon[mon.product_category.isin(['SL1', 'SL2'])]"
   ]
  },
  {
   "cell_type": "code",
   "execution_count": 48,
   "id": "993e598c",
   "metadata": {},
   "outputs": [
    {
     "data": {
      "text/plain": [
       "I    1623379\n",
       "J      97211\n",
       "C      22115\n",
       "M      20032\n",
       "X        626\n",
       "T        360\n",
       "S          3\n",
       "U          1\n",
       "Name: ecoa, dtype: int64"
      ]
     },
     "execution_count": 48,
     "metadata": {},
     "output_type": "execute_result"
    }
   ],
   "source": [
    "sl.ecoa.value_counts()"
   ]
  },
  {
   "cell_type": "code",
   "execution_count": 44,
   "id": "eba79a3b",
   "metadata": {},
   "outputs": [
    {
     "data": {
      "text/plain": [
       "0.9204242828688535"
      ]
     },
     "execution_count": 44,
     "metadata": {},
     "output_type": "execute_result"
    }
   ],
   "source": [
    "1623379/1763729"
   ]
  },
  {
   "cell_type": "code",
   "execution_count": 36,
   "id": "f2ad20f7",
   "metadata": {},
   "outputs": [],
   "source": [
    "sl_j = sl[sl.ecoa!= \"I\"]"
   ]
  },
  {
   "cell_type": "code",
   "execution_count": 37,
   "id": "275e4da3",
   "metadata": {},
   "outputs": [],
   "source": [
    "sl_ids = sl_j.trade_id.value_counts()\n",
    "sl_ids = sl_ids[sl_ids >= 2].index"
   ]
  },
  {
   "cell_type": "code",
   "execution_count": 38,
   "id": "93977779",
   "metadata": {},
   "outputs": [
    {
     "data": {
      "text/plain": [
       "Int64Index([ 946094903,  493555205, 1025660910,  996730568,  861478639,\n",
       "             984693587,  968007179,  908733856,  979700326,  965909220,\n",
       "            ...\n",
       "             819617605, 1050681540,  774428633, 1030958533,  987701092,\n",
       "             818975398,  819193235,  814450139,  988850970,  984344124],\n",
       "           dtype='int64', length=411)"
      ]
     },
     "execution_count": 38,
     "metadata": {},
     "output_type": "execute_result"
    }
   ],
   "source": [
    "sl_ids"
   ]
  },
  {
   "cell_type": "code",
   "execution_count": 39,
   "id": "21399dcf",
   "metadata": {},
   "outputs": [],
   "source": [
    "two_ids = sl_j[sl_j.trade_id.isin(sl_ids)].sort_values('trade_id')"
   ]
  },
  {
   "cell_type": "code",
   "execution_count": 40,
   "id": "9caa2800",
   "metadata": {},
   "outputs": [
    {
     "data": {
      "text/plain": [
       "J    464\n",
       "C    187\n",
       "M    171\n",
       "Name: ecoa, dtype: int64"
      ]
     },
     "execution_count": 40,
     "metadata": {},
     "output_type": "execute_result"
    }
   ],
   "source": [
    "two_ids.ecoa.value_counts()"
   ]
  },
  {
   "cell_type": "code",
   "execution_count": 56,
   "id": "3ab1fd56",
   "metadata": {},
   "outputs": [
    {
     "data": {
      "text/html": [
       "<div>\n",
       "<style scoped>\n",
       "    .dataframe tbody tr th:only-of-type {\n",
       "        vertical-align: middle;\n",
       "    }\n",
       "\n",
       "    .dataframe tbody tr th {\n",
       "        vertical-align: top;\n",
       "    }\n",
       "\n",
       "    .dataframe thead th {\n",
       "        text-align: right;\n",
       "    }\n",
       "</style>\n",
       "<table border=\"1\" class=\"dataframe\">\n",
       "  <thead>\n",
       "    <tr style=\"text-align: right;\">\n",
       "      <th></th>\n",
       "      <th>consumer_id</th>\n",
       "      <th>trade_id</th>\n",
       "      <th>product_category</th>\n",
       "      <th>ecoa</th>\n",
       "      <th>balance</th>\n",
       "      <th>consumer_age_archive</th>\n",
       "    </tr>\n",
       "  </thead>\n",
       "  <tbody>\n",
       "    <tr>\n",
       "      <th>16002917</th>\n",
       "      <td>32558716</td>\n",
       "      <td>1045658751</td>\n",
       "      <td>SL2</td>\n",
       "      <td>J</td>\n",
       "      <td>6034</td>\n",
       "      <td>1</td>\n",
       "    </tr>\n",
       "    <tr>\n",
       "      <th>16002918</th>\n",
       "      <td>11786553</td>\n",
       "      <td>1045658751</td>\n",
       "      <td>SL2</td>\n",
       "      <td>J</td>\n",
       "      <td>6034</td>\n",
       "      <td>5</td>\n",
       "    </tr>\n",
       "    <tr>\n",
       "      <th>6224690</th>\n",
       "      <td>12060739</td>\n",
       "      <td>1047011475</td>\n",
       "      <td>SL1</td>\n",
       "      <td>J</td>\n",
       "      <td>2495</td>\n",
       "      <td>5</td>\n",
       "    </tr>\n",
       "    <tr>\n",
       "      <th>6224689</th>\n",
       "      <td>32110469</td>\n",
       "      <td>1047011475</td>\n",
       "      <td>SL1</td>\n",
       "      <td>J</td>\n",
       "      <td>2495</td>\n",
       "      <td>1</td>\n",
       "    </tr>\n",
       "    <tr>\n",
       "      <th>7053585</th>\n",
       "      <td>1920961</td>\n",
       "      <td>1047540686</td>\n",
       "      <td>SL1</td>\n",
       "      <td>C</td>\n",
       "      <td>15395</td>\n",
       "      <td>5</td>\n",
       "    </tr>\n",
       "    <tr>\n",
       "      <th>7053584</th>\n",
       "      <td>32534834</td>\n",
       "      <td>1047540686</td>\n",
       "      <td>SL1</td>\n",
       "      <td>M</td>\n",
       "      <td>15395</td>\n",
       "      <td>1</td>\n",
       "    </tr>\n",
       "    <tr>\n",
       "      <th>25060221</th>\n",
       "      <td>7837518</td>\n",
       "      <td>1050235788</td>\n",
       "      <td>SL2</td>\n",
       "      <td>C</td>\n",
       "      <td>9514</td>\n",
       "      <td>5</td>\n",
       "    </tr>\n",
       "    <tr>\n",
       "      <th>25060222</th>\n",
       "      <td>31687525</td>\n",
       "      <td>1050235788</td>\n",
       "      <td>SL2</td>\n",
       "      <td>M</td>\n",
       "      <td>9514</td>\n",
       "      <td>1</td>\n",
       "    </tr>\n",
       "    <tr>\n",
       "      <th>5657005</th>\n",
       "      <td>3828172</td>\n",
       "      <td>1050681540</td>\n",
       "      <td>SL2</td>\n",
       "      <td>J</td>\n",
       "      <td>4833</td>\n",
       "      <td>5</td>\n",
       "    </tr>\n",
       "    <tr>\n",
       "      <th>5657006</th>\n",
       "      <td>27201004</td>\n",
       "      <td>1050681540</td>\n",
       "      <td>SL2</td>\n",
       "      <td>J</td>\n",
       "      <td>4833</td>\n",
       "      <td>2</td>\n",
       "    </tr>\n",
       "  </tbody>\n",
       "</table>\n",
       "</div>"
      ],
      "text/plain": [
       "          consumer_id    trade_id product_category ecoa  balance  \\\n",
       "16002917     32558716  1045658751              SL2    J     6034   \n",
       "16002918     11786553  1045658751              SL2    J     6034   \n",
       "6224690      12060739  1047011475              SL1    J     2495   \n",
       "6224689      32110469  1047011475              SL1    J     2495   \n",
       "7053585       1920961  1047540686              SL1    C    15395   \n",
       "7053584      32534834  1047540686              SL1    M    15395   \n",
       "25060221      7837518  1050235788              SL2    C     9514   \n",
       "25060222     31687525  1050235788              SL2    M     9514   \n",
       "5657005       3828172  1050681540              SL2    J     4833   \n",
       "5657006      27201004  1050681540              SL2    J     4833   \n",
       "\n",
       "          consumer_age_archive  \n",
       "16002917                     1  \n",
       "16002918                     5  \n",
       "6224690                      5  \n",
       "6224689                      1  \n",
       "7053585                      5  \n",
       "7053584                      1  \n",
       "25060221                     5  \n",
       "25060222                     1  \n",
       "5657005                      5  \n",
       "5657006                      2  "
      ]
     },
     "execution_count": 56,
     "metadata": {},
     "output_type": "execute_result"
    }
   ],
   "source": [
    "two_ids.tail(10)"
   ]
  },
  {
   "cell_type": "markdown",
   "id": "ae2881c4",
   "metadata": {},
   "source": [
    "## What percentage of each kind of loan is joint? \n",
    "\n",
    "Do I want to use balances in and out to track this or do it within the loop? \n",
    "\n",
    "Let's do it within the loop actually--that way we can track differences over time. And if nothing changes, then it'll be easy to track percentages"
   ]
  },
  {
   "cell_type": "code",
   "execution_count": 3,
   "id": "810d5a2d",
   "metadata": {},
   "outputs": [],
   "source": [
    "# number of tradelines\n",
    "tl = mon.groupby('product_category').count()\n",
    "\n",
    "# number of joint tradelines \n",
    "jtl = mon[mon.ecoa==\"J\"].groupby('product_category').count()"
   ]
  },
  {
   "cell_type": "code",
   "execution_count": 4,
   "id": "f93a8e5b",
   "metadata": {},
   "outputs": [
    {
     "data": {
      "text/html": [
       "<div>\n",
       "<style scoped>\n",
       "    .dataframe tbody tr th:only-of-type {\n",
       "        vertical-align: middle;\n",
       "    }\n",
       "\n",
       "    .dataframe tbody tr th {\n",
       "        vertical-align: top;\n",
       "    }\n",
       "\n",
       "    .dataframe thead th {\n",
       "        text-align: right;\n",
       "    }\n",
       "</style>\n",
       "<table border=\"1\" class=\"dataframe\">\n",
       "  <thead>\n",
       "    <tr style=\"text-align: right;\">\n",
       "      <th></th>\n",
       "      <th>consumer_id</th>\n",
       "      <th>trade_id</th>\n",
       "      <th>ecoa</th>\n",
       "      <th>balance</th>\n",
       "      <th>consumer_age_archive</th>\n",
       "    </tr>\n",
       "    <tr>\n",
       "      <th>product_category</th>\n",
       "      <th></th>\n",
       "      <th></th>\n",
       "      <th></th>\n",
       "      <th></th>\n",
       "      <th></th>\n",
       "    </tr>\n",
       "  </thead>\n",
       "  <tbody>\n",
       "    <tr>\n",
       "      <th>AB1</th>\n",
       "      <td>0.321224</td>\n",
       "      <td>0.321224</td>\n",
       "      <td>0.321224</td>\n",
       "      <td>0.321224</td>\n",
       "      <td>0.321224</td>\n",
       "    </tr>\n",
       "    <tr>\n",
       "      <th>AB2</th>\n",
       "      <td>0.423530</td>\n",
       "      <td>0.423530</td>\n",
       "      <td>0.423543</td>\n",
       "      <td>0.423530</td>\n",
       "      <td>0.423530</td>\n",
       "    </tr>\n",
       "    <tr>\n",
       "      <th>AF1</th>\n",
       "      <td>0.366390</td>\n",
       "      <td>0.366390</td>\n",
       "      <td>0.366398</td>\n",
       "      <td>0.366390</td>\n",
       "      <td>0.366390</td>\n",
       "    </tr>\n",
       "    <tr>\n",
       "      <th>AF2</th>\n",
       "      <td>0.425026</td>\n",
       "      <td>0.425026</td>\n",
       "      <td>0.425043</td>\n",
       "      <td>0.425026</td>\n",
       "      <td>0.425026</td>\n",
       "    </tr>\n",
       "    <tr>\n",
       "      <th>BC</th>\n",
       "      <td>0.063076</td>\n",
       "      <td>0.063076</td>\n",
       "      <td>0.063080</td>\n",
       "      <td>0.063076</td>\n",
       "      <td>0.063076</td>\n",
       "    </tr>\n",
       "    <tr>\n",
       "      <th>CFI</th>\n",
       "      <td>0.126383</td>\n",
       "      <td>0.126383</td>\n",
       "      <td>0.126557</td>\n",
       "      <td>0.126383</td>\n",
       "      <td>0.126383</td>\n",
       "    </tr>\n",
       "    <tr>\n",
       "      <th>CFR</th>\n",
       "      <td>0.093782</td>\n",
       "      <td>0.093782</td>\n",
       "      <td>0.093782</td>\n",
       "      <td>0.093782</td>\n",
       "      <td>0.093782</td>\n",
       "    </tr>\n",
       "    <tr>\n",
       "      <th>FM</th>\n",
       "      <td>0.641503</td>\n",
       "      <td>0.641503</td>\n",
       "      <td>0.641807</td>\n",
       "      <td>0.641503</td>\n",
       "      <td>0.641503</td>\n",
       "    </tr>\n",
       "    <tr>\n",
       "      <th>HI</th>\n",
       "      <td>0.513582</td>\n",
       "      <td>0.513582</td>\n",
       "      <td>0.513746</td>\n",
       "      <td>0.513582</td>\n",
       "      <td>0.513582</td>\n",
       "    </tr>\n",
       "    <tr>\n",
       "      <th>HR</th>\n",
       "      <td>0.697163</td>\n",
       "      <td>0.697163</td>\n",
       "      <td>0.697190</td>\n",
       "      <td>0.697163</td>\n",
       "      <td>0.697163</td>\n",
       "    </tr>\n",
       "    <tr>\n",
       "      <th>OT1</th>\n",
       "      <td>0.343190</td>\n",
       "      <td>0.343190</td>\n",
       "      <td>0.343418</td>\n",
       "      <td>0.343190</td>\n",
       "      <td>0.343190</td>\n",
       "    </tr>\n",
       "    <tr>\n",
       "      <th>RT</th>\n",
       "      <td>0.049229</td>\n",
       "      <td>0.049229</td>\n",
       "      <td>0.049230</td>\n",
       "      <td>0.049229</td>\n",
       "      <td>0.049229</td>\n",
       "    </tr>\n",
       "    <tr>\n",
       "      <th>SL1</th>\n",
       "      <td>0.049822</td>\n",
       "      <td>0.049822</td>\n",
       "      <td>0.049822</td>\n",
       "      <td>0.049822</td>\n",
       "      <td>0.049822</td>\n",
       "    </tr>\n",
       "    <tr>\n",
       "      <th>SL2</th>\n",
       "      <td>0.057047</td>\n",
       "      <td>0.057047</td>\n",
       "      <td>0.057047</td>\n",
       "      <td>0.057047</td>\n",
       "      <td>0.057047</td>\n",
       "    </tr>\n",
       "  </tbody>\n",
       "</table>\n",
       "</div>"
      ],
      "text/plain": [
       "                  consumer_id  trade_id      ecoa   balance  \\\n",
       "product_category                                              \n",
       "AB1                  0.321224  0.321224  0.321224  0.321224   \n",
       "AB2                  0.423530  0.423530  0.423543  0.423530   \n",
       "AF1                  0.366390  0.366390  0.366398  0.366390   \n",
       "AF2                  0.425026  0.425026  0.425043  0.425026   \n",
       "BC                   0.063076  0.063076  0.063080  0.063076   \n",
       "CFI                  0.126383  0.126383  0.126557  0.126383   \n",
       "CFR                  0.093782  0.093782  0.093782  0.093782   \n",
       "FM                   0.641503  0.641503  0.641807  0.641503   \n",
       "HI                   0.513582  0.513582  0.513746  0.513582   \n",
       "HR                   0.697163  0.697163  0.697190  0.697163   \n",
       "OT1                  0.343190  0.343190  0.343418  0.343190   \n",
       "RT                   0.049229  0.049229  0.049230  0.049229   \n",
       "SL1                  0.049822  0.049822  0.049822  0.049822   \n",
       "SL2                  0.057047  0.057047  0.057047  0.057047   \n",
       "\n",
       "                  consumer_age_archive  \n",
       "product_category                        \n",
       "AB1                           0.321224  \n",
       "AB2                           0.423530  \n",
       "AF1                           0.366390  \n",
       "AF2                           0.425026  \n",
       "BC                            0.063076  \n",
       "CFI                           0.126383  \n",
       "CFR                           0.093782  \n",
       "FM                            0.641503  \n",
       "HI                            0.513582  \n",
       "HR                            0.697163  \n",
       "OT1                           0.343190  \n",
       "RT                            0.049229  \n",
       "SL1                           0.049822  \n",
       "SL2                           0.057047  "
      ]
     },
     "execution_count": 4,
     "metadata": {},
     "output_type": "execute_result"
    }
   ],
   "source": [
    "jtl/tl"
   ]
  },
  {
   "cell_type": "code",
   "execution_count": null,
   "id": "d4cad406",
   "metadata": {},
   "outputs": [],
   "source": []
  }
 ],
 "metadata": {
  "kernelspec": {
   "display_name": "Python 3 (ipykernel)",
   "language": "python",
   "name": "python3"
  },
  "language_info": {
   "codemirror_mode": {
    "name": "ipython",
    "version": 3
   },
   "file_extension": ".py",
   "mimetype": "text/x-python",
   "name": "python",
   "nbconvert_exporter": "python",
   "pygments_lexer": "ipython3",
   "version": "3.8.5"
  }
 },
 "nbformat": 4,
 "nbformat_minor": 5
}
