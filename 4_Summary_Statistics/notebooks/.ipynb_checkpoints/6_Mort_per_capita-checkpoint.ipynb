{
 "cells": [
  {
   "cell_type": "markdown",
   "id": "94ec7666",
   "metadata": {},
   "source": [
    "# average per capita by age \n",
    "\n",
    "What do the average per capita mortgage levels would be once you adjust for the joint mortgage issue. this could be different for you vs old people since they have different likelihood of being in a relationship. just take the observed likelihood that people in the different age groups hold mortgages jointly or individually."
   ]
  },
  {
   "cell_type": "code",
   "execution_count": 1,
   "id": "d5ad162a",
   "metadata": {},
   "outputs": [],
   "source": [
    "# Setting up \n",
    "\n",
    "import pandas as pd\n",
    "import numpy as np\n",
    "\n",
    "pd.set_option('display.max_rows', None)\n",
    "pd.set_option('display.max_columns', None)\n",
    "pd.set_option('display.width', None)\n",
    "pd.set_option('display.max_colwidth', None)\n",
    "\n",
    "sample = \"~//projects//equifaxmacro_proj//EquiFax3//2_10_Percent_Sample_Construction//output//sample//\""
   ]
  },
  {
   "cell_type": "code",
   "execution_count": 169,
   "id": "14f3f0ed",
   "metadata": {},
   "outputs": [],
   "source": [
    "# read in a month\n",
    "cols = ['consumer_id', 'trade_id', 'product_category', 'balance', 'ecoa', 'consumer_age_archive']\n",
    "\n",
    "month_str = sample + \"202001_10perc.parquet\"\n",
    "mon = pd.read_parquet(month_str, columns = cols)"
   ]
  },
  {
   "cell_type": "code",
   "execution_count": 170,
   "id": "c7f2b56f",
   "metadata": {},
   "outputs": [],
   "source": [
    "# only keep first mortgages\n",
    "total_ppl = mon.groupby('consumer_age_archive').apply(lambda group: len(group.consumer_id.unique()))\n",
    "mon = mon[mon.product_category == \"FM\"]\n",
    "\n",
    "total_mort_ppl = mon.groupby('consumer_age_archive').apply(lambda group: len(group.consumer_id.unique()))"
   ]
  },
  {
   "cell_type": "code",
   "execution_count": 160,
   "id": "f91759f6",
   "metadata": {},
   "outputs": [
    {
     "data": {
      "text/html": [
       "<div>\n",
       "<style scoped>\n",
       "    .dataframe tbody tr th:only-of-type {\n",
       "        vertical-align: middle;\n",
       "    }\n",
       "\n",
       "    .dataframe tbody tr th {\n",
       "        vertical-align: top;\n",
       "    }\n",
       "\n",
       "    .dataframe thead th {\n",
       "        text-align: right;\n",
       "    }\n",
       "</style>\n",
       "<table border=\"1\" class=\"dataframe\">\n",
       "  <thead>\n",
       "    <tr style=\"text-align: right;\">\n",
       "      <th></th>\n",
       "      <th>consumer_id</th>\n",
       "      <th>trade_id</th>\n",
       "      <th>product_category</th>\n",
       "      <th>balance</th>\n",
       "      <th>ecoa</th>\n",
       "      <th>consumer_age_archive</th>\n",
       "    </tr>\n",
       "  </thead>\n",
       "  <tbody>\n",
       "    <tr>\n",
       "      <th>4</th>\n",
       "      <td>23291220</td>\n",
       "      <td>1031986843</td>\n",
       "      <td>FM</td>\n",
       "      <td>327820</td>\n",
       "      <td>I</td>\n",
       "      <td>3</td>\n",
       "    </tr>\n",
       "    <tr>\n",
       "      <th>939</th>\n",
       "      <td>103838</td>\n",
       "      <td>1032019573</td>\n",
       "      <td>FM</td>\n",
       "      <td>189463</td>\n",
       "      <td>I</td>\n",
       "      <td>3</td>\n",
       "    </tr>\n",
       "    <tr>\n",
       "      <th>1393</th>\n",
       "      <td>14973534</td>\n",
       "      <td>1029445310</td>\n",
       "      <td>FM</td>\n",
       "      <td>241139</td>\n",
       "      <td>J</td>\n",
       "      <td>2</td>\n",
       "    </tr>\n",
       "    <tr>\n",
       "      <th>1394</th>\n",
       "      <td>21395140</td>\n",
       "      <td>1029445310</td>\n",
       "      <td>FM</td>\n",
       "      <td>241139</td>\n",
       "      <td>J</td>\n",
       "      <td>2</td>\n",
       "    </tr>\n",
       "    <tr>\n",
       "      <th>1400</th>\n",
       "      <td>10826332</td>\n",
       "      <td>1032043676</td>\n",
       "      <td>FM</td>\n",
       "      <td>195921</td>\n",
       "      <td>I</td>\n",
       "      <td>2</td>\n",
       "    </tr>\n",
       "  </tbody>\n",
       "</table>\n",
       "</div>"
      ],
      "text/plain": [
       "      consumer_id    trade_id product_category  balance ecoa  \\\n",
       "4        23291220  1031986843               FM   327820    I   \n",
       "939        103838  1032019573               FM   189463    I   \n",
       "1393     14973534  1029445310               FM   241139    J   \n",
       "1394     21395140  1029445310               FM   241139    J   \n",
       "1400     10826332  1032043676               FM   195921    I   \n",
       "\n",
       "      consumer_age_archive  \n",
       "4                        3  \n",
       "939                      3  \n",
       "1393                     2  \n",
       "1394                     2  \n",
       "1400                     2  "
      ]
     },
     "execution_count": 160,
     "metadata": {},
     "output_type": "execute_result"
    }
   ],
   "source": [
    "mon.head()"
   ]
  },
  {
   "cell_type": "code",
   "execution_count": 161,
   "id": "efce6429",
   "metadata": {},
   "outputs": [
    {
     "data": {
      "text/plain": [
       "(811985, 6)"
      ]
     },
     "execution_count": 161,
     "metadata": {},
     "output_type": "execute_result"
    }
   ],
   "source": [
    "mon.shape"
   ]
  },
  {
   "cell_type": "code",
   "execution_count": 162,
   "id": "2e3dcc38",
   "metadata": {},
   "outputs": [],
   "source": [
    "# we want to know the percentage of people that have at least one joint mortgage. Let's figure out the number of people first\n",
    "\n"
   ]
  },
  {
   "cell_type": "code",
   "execution_count": 163,
   "id": "9bfa81b8",
   "metadata": {},
   "outputs": [],
   "source": [
    "# now let's do the same, but filter out all the people without joint mortgages\n",
    "\n",
    "joint = mon[mon.ecoa==\"J\"]"
   ]
  },
  {
   "cell_type": "code",
   "execution_count": 164,
   "id": "e4dc7424",
   "metadata": {},
   "outputs": [],
   "source": [
    "joint_ppl = joint.groupby('consumer_age_archive').apply(lambda group: len(group.consumer_id.unique()))"
   ]
  },
  {
   "cell_type": "code",
   "execution_count": 165,
   "id": "e4d041cf",
   "metadata": {},
   "outputs": [
    {
     "data": {
      "text/plain": [
       "consumer_age_archive\n",
       "0    0.669550\n",
       "1    0.564372\n",
       "2    0.599753\n",
       "3    0.639210\n",
       "4    0.653657\n",
       "5    0.666171\n",
       "6    0.681523\n",
       "7    0.650927\n",
       "dtype: float64"
      ]
     },
     "execution_count": 165,
     "metadata": {},
     "output_type": "execute_result"
    }
   ],
   "source": []
  },
  {
   "cell_type": "markdown",
   "id": "fc5b2151",
   "metadata": {},
   "source": [
    "now, we want to adjust the per mortgage balance per capita \n",
    "From Antoinette: \"just take the observed likelihood that people in the different age groups hold mortgages jointly or individually.\"\n",
    "\n",
    "Isn't the best option still to just drop half of all the joint tradlines? "
   ]
  },
  {
   "cell_type": "code",
   "execution_count": 148,
   "id": "d6a83898",
   "metadata": {},
   "outputs": [
    {
     "data": {
      "text/html": [
       "<div>\n",
       "<style scoped>\n",
       "    .dataframe tbody tr th:only-of-type {\n",
       "        vertical-align: middle;\n",
       "    }\n",
       "\n",
       "    .dataframe tbody tr th {\n",
       "        vertical-align: top;\n",
       "    }\n",
       "\n",
       "    .dataframe thead th {\n",
       "        text-align: right;\n",
       "    }\n",
       "</style>\n",
       "<table border=\"1\" class=\"dataframe\">\n",
       "  <thead>\n",
       "    <tr style=\"text-align: right;\">\n",
       "      <th></th>\n",
       "      <th>consumer_id</th>\n",
       "      <th>trade_id</th>\n",
       "      <th>product_category</th>\n",
       "      <th>balance</th>\n",
       "      <th>ecoa</th>\n",
       "      <th>consumer_age_archive</th>\n",
       "    </tr>\n",
       "  </thead>\n",
       "  <tbody>\n",
       "    <tr>\n",
       "      <th>4</th>\n",
       "      <td>23291220</td>\n",
       "      <td>1031986843</td>\n",
       "      <td>FM</td>\n",
       "      <td>327820</td>\n",
       "      <td>I</td>\n",
       "      <td>3</td>\n",
       "    </tr>\n",
       "    <tr>\n",
       "      <th>939</th>\n",
       "      <td>103838</td>\n",
       "      <td>1032019573</td>\n",
       "      <td>FM</td>\n",
       "      <td>189463</td>\n",
       "      <td>I</td>\n",
       "      <td>3</td>\n",
       "    </tr>\n",
       "    <tr>\n",
       "      <th>1393</th>\n",
       "      <td>14973534</td>\n",
       "      <td>1029445310</td>\n",
       "      <td>FM</td>\n",
       "      <td>241139</td>\n",
       "      <td>J</td>\n",
       "      <td>2</td>\n",
       "    </tr>\n",
       "    <tr>\n",
       "      <th>1394</th>\n",
       "      <td>21395140</td>\n",
       "      <td>1029445310</td>\n",
       "      <td>FM</td>\n",
       "      <td>241139</td>\n",
       "      <td>J</td>\n",
       "      <td>2</td>\n",
       "    </tr>\n",
       "    <tr>\n",
       "      <th>1400</th>\n",
       "      <td>10826332</td>\n",
       "      <td>1032043676</td>\n",
       "      <td>FM</td>\n",
       "      <td>195921</td>\n",
       "      <td>I</td>\n",
       "      <td>2</td>\n",
       "    </tr>\n",
       "  </tbody>\n",
       "</table>\n",
       "</div>"
      ],
      "text/plain": [
       "      consumer_id    trade_id product_category  balance ecoa  \\\n",
       "4        23291220  1031986843               FM   327820    I   \n",
       "939        103838  1032019573               FM   189463    I   \n",
       "1393     14973534  1029445310               FM   241139    J   \n",
       "1394     21395140  1029445310               FM   241139    J   \n",
       "1400     10826332  1032043676               FM   195921    I   \n",
       "\n",
       "      consumer_age_archive  \n",
       "4                        3  \n",
       "939                      3  \n",
       "1393                     2  \n",
       "1394                     2  \n",
       "1400                     2  "
      ]
     },
     "execution_count": 148,
     "metadata": {},
     "output_type": "execute_result"
    }
   ],
   "source": [
    "mon.head()"
   ]
  },
  {
   "cell_type": "code",
   "execution_count": 149,
   "id": "4871f987",
   "metadata": {},
   "outputs": [],
   "source": [
    "# get all the mortgages again\n",
    "# drop half of all the joint mortgages \n",
    "# figure out the balances per capita (by state?)\n",
    "mort = mon[mon.product_category == \"FM\"]\n",
    "\n",
    "# separate individual and joint\n",
    "ind = mort[mort.ecoa == \"I\"]\n",
    "joint = mort[mort.ecoa == \"J\"]"
   ]
  },
  {
   "cell_type": "code",
   "execution_count": 150,
   "id": "785f6949",
   "metadata": {},
   "outputs": [
    {
     "data": {
      "text/html": [
       "<div>\n",
       "<style scoped>\n",
       "    .dataframe tbody tr th:only-of-type {\n",
       "        vertical-align: middle;\n",
       "    }\n",
       "\n",
       "    .dataframe tbody tr th {\n",
       "        vertical-align: top;\n",
       "    }\n",
       "\n",
       "    .dataframe thead th {\n",
       "        text-align: right;\n",
       "    }\n",
       "</style>\n",
       "<table border=\"1\" class=\"dataframe\">\n",
       "  <thead>\n",
       "    <tr style=\"text-align: right;\">\n",
       "      <th></th>\n",
       "      <th>consumer_id</th>\n",
       "      <th>trade_id</th>\n",
       "      <th>product_category</th>\n",
       "      <th>balance</th>\n",
       "      <th>ecoa</th>\n",
       "      <th>consumer_age_archive</th>\n",
       "    </tr>\n",
       "  </thead>\n",
       "  <tbody>\n",
       "    <tr>\n",
       "      <th>1393</th>\n",
       "      <td>14973534</td>\n",
       "      <td>1029445310</td>\n",
       "      <td>FM</td>\n",
       "      <td>241139</td>\n",
       "      <td>J</td>\n",
       "      <td>2</td>\n",
       "    </tr>\n",
       "    <tr>\n",
       "      <th>1394</th>\n",
       "      <td>21395140</td>\n",
       "      <td>1029445310</td>\n",
       "      <td>FM</td>\n",
       "      <td>241139</td>\n",
       "      <td>J</td>\n",
       "      <td>2</td>\n",
       "    </tr>\n",
       "    <tr>\n",
       "      <th>1444</th>\n",
       "      <td>17189636</td>\n",
       "      <td>717601721</td>\n",
       "      <td>FM</td>\n",
       "      <td>238661</td>\n",
       "      <td>J</td>\n",
       "      <td>5</td>\n",
       "    </tr>\n",
       "    <tr>\n",
       "      <th>1469</th>\n",
       "      <td>22144587</td>\n",
       "      <td>929564376</td>\n",
       "      <td>FM</td>\n",
       "      <td>90094</td>\n",
       "      <td>J</td>\n",
       "      <td>4</td>\n",
       "    </tr>\n",
       "    <tr>\n",
       "      <th>1621</th>\n",
       "      <td>26169177</td>\n",
       "      <td>717672696</td>\n",
       "      <td>FM</td>\n",
       "      <td>141519</td>\n",
       "      <td>J</td>\n",
       "      <td>3</td>\n",
       "    </tr>\n",
       "  </tbody>\n",
       "</table>\n",
       "</div>"
      ],
      "text/plain": [
       "      consumer_id    trade_id product_category  balance ecoa  \\\n",
       "1393     14973534  1029445310               FM   241139    J   \n",
       "1394     21395140  1029445310               FM   241139    J   \n",
       "1444     17189636   717601721               FM   238661    J   \n",
       "1469     22144587   929564376               FM    90094    J   \n",
       "1621     26169177   717672696               FM   141519    J   \n",
       "\n",
       "      consumer_age_archive  \n",
       "1393                     2  \n",
       "1394                     2  \n",
       "1444                     5  \n",
       "1469                     4  \n",
       "1621                     3  "
      ]
     },
     "execution_count": 150,
     "metadata": {},
     "output_type": "execute_result"
    }
   ],
   "source": [
    "# uhhhh, I guess we just drop half the tradelines \n",
    "\n",
    "joint.head()"
   ]
  },
  {
   "cell_type": "code",
   "execution_count": 151,
   "id": "b5db64f0",
   "metadata": {},
   "outputs": [
    {
     "data": {
      "text/plain": [
       "(521631, 6)"
      ]
     },
     "execution_count": 151,
     "metadata": {},
     "output_type": "execute_result"
    }
   ],
   "source": [
    "# okay, so we can just drop half the tradelines directly? \n",
    "joint.shape"
   ]
  },
  {
   "cell_type": "code",
   "execution_count": 152,
   "id": "67183490",
   "metadata": {},
   "outputs": [
    {
     "data": {
      "text/plain": [
       "(260816, 6)"
      ]
     },
     "execution_count": 152,
     "metadata": {},
     "output_type": "execute_result"
    }
   ],
   "source": [
    "joint = joint.iloc[0::2,:]\n",
    "joint.shape"
   ]
  },
  {
   "cell_type": "code",
   "execution_count": 153,
   "id": "97f5ff05",
   "metadata": {},
   "outputs": [],
   "source": [
    "new_mort = pd.concat([ind, joint])"
   ]
  },
  {
   "cell_type": "code",
   "execution_count": 154,
   "id": "3ddf9acb",
   "metadata": {},
   "outputs": [
    {
     "data": {
      "text/plain": [
       "consumer_age_archive\n",
       "0      227305532\n",
       "1      504807271\n",
       "2    11521172388\n",
       "3    23981317551\n",
       "4    24795232805\n",
       "5    19699044695\n",
       "6    10656441240\n",
       "7     3714570199\n",
       "Name: balance, dtype: int64"
      ]
     },
     "execution_count": 154,
     "metadata": {},
     "output_type": "execute_result"
    }
   ],
   "source": [
    "# this is balance \n",
    "\n",
    "new_mort.groupby('consumer_age_archive').sum()['balance']"
   ]
  },
  {
   "cell_type": "code",
   "execution_count": 155,
   "id": "81e1fd46",
   "metadata": {},
   "outputs": [
    {
     "data": {
      "text/plain": [
       "consumer_age_archive\n",
       "0      5332\n",
       "1    178411\n",
       "2    398606\n",
       "3    383249\n",
       "4    376947\n",
       "5    394799\n",
       "6    309516\n",
       "7    242970\n",
       "dtype: int64"
      ]
     },
     "execution_count": 155,
     "metadata": {},
     "output_type": "execute_result"
    }
   ],
   "source": [
    "total_ppl"
   ]
  },
  {
   "cell_type": "code",
   "execution_count": 156,
   "id": "6198c1db",
   "metadata": {},
   "outputs": [
    {
     "data": {
      "text/plain": [
       "consumer_age_archive\n",
       "0    42630.444861\n",
       "1     2829.462707\n",
       "2    28903.660226\n",
       "3    62573.725048\n",
       "4    65779.095748\n",
       "5    49896.389543\n",
       "6    34429.371147\n",
       "7    15288.184545\n",
       "dtype: float64"
      ]
     },
     "execution_count": 156,
     "metadata": {},
     "output_type": "execute_result"
    }
   ],
   "source": [
    "# this is balance \n",
    "\n",
    "new_mort.groupby('consumer_age_archive').sum()['balance']/total_ppl"
   ]
  },
  {
   "cell_type": "code",
   "execution_count": 157,
   "id": "f8a02354",
   "metadata": {},
   "outputs": [
    {
     "data": {
      "text/plain": [
       "41531.42009712511"
      ]
     },
     "execution_count": 157,
     "metadata": {},
     "output_type": "execute_result"
    }
   ],
   "source": [
    "new_mort['balance'].sum()/total_ppl.sum()"
   ]
  },
  {
   "cell_type": "code",
   "execution_count": 158,
   "id": "a5c821b5",
   "metadata": {},
   "outputs": [
    {
     "data": {
      "text/plain": [
       "63463.98103702022"
      ]
     },
     "execution_count": 158,
     "metadata": {},
     "output_type": "execute_result"
    }
   ],
   "source": [
    "mort['balance'].sum()/total_ppl.sum()"
   ]
  },
  {
   "cell_type": "code",
   "execution_count": 166,
   "id": "8bbb3103",
   "metadata": {},
   "outputs": [],
   "source": [
    "# okay, so we want two things: \n",
    "# 1) percentage of mortgages that are joint mortgages by age? And overall? \n",
    "# 2) percentage of people with a mortgage by age (and overall)\n",
    "# 3) mortgage per capita, by age and overall "
   ]
  },
  {
   "cell_type": "code",
   "execution_count": 167,
   "id": "5ddab5cd",
   "metadata": {},
   "outputs": [
    {
     "data": {
      "text/plain": [
       "consumer_age_archive\n",
       "0    0.669550\n",
       "1    0.564372\n",
       "2    0.599753\n",
       "3    0.639210\n",
       "4    0.653657\n",
       "5    0.666171\n",
       "6    0.681523\n",
       "7    0.650927\n",
       "dtype: float64"
      ]
     },
     "execution_count": 167,
     "metadata": {},
     "output_type": "execute_result"
    }
   ],
   "source": [
    "perc_mort = joint_ppl/total_mort_ppl\n",
    "perc_mort.index = "
   ]
  },
  {
   "cell_type": "code",
   "execution_count": 171,
   "id": "800bdb50",
   "metadata": {},
   "outputs": [
    {
     "data": {
      "text/plain": [
       "consumer_age_archive\n",
       "0    0.216804\n",
       "1    0.025643\n",
       "2    0.206868\n",
       "3    0.390743\n",
       "4    0.443399\n",
       "5    0.407040\n",
       "6    0.318523\n",
       "7    0.160114\n",
       "dtype: float64"
      ]
     },
     "execution_count": 171,
     "metadata": {},
     "output_type": "execute_result"
    }
   ],
   "source": [
    "total_mort_ppl/total_ppl"
   ]
  },
  {
   "cell_type": "code",
   "execution_count": 172,
   "id": "87b10508",
   "metadata": {},
   "outputs": [
    {
     "data": {
      "text/plain": [
       "consumer_age_archive\n",
       "0    42630.444861\n",
       "1     2829.462707\n",
       "2    28903.660226\n",
       "3    62573.725048\n",
       "4    65779.095748\n",
       "5    49896.389543\n",
       "6    34429.371147\n",
       "7    15288.184545\n",
       "dtype: float64"
      ]
     },
     "execution_count": 172,
     "metadata": {},
     "output_type": "execute_result"
    }
   ],
   "source": [
    "new_mort.groupby('consumer_age_archive').sum()['balance']/total_ppl"
   ]
  },
  {
   "cell_type": "code",
   "execution_count": null,
   "id": "9652724a",
   "metadata": {},
   "outputs": [],
   "source": []
  }
 ],
 "metadata": {
  "kernelspec": {
   "display_name": "Python 3 (ipykernel)",
   "language": "python",
   "name": "python3"
  },
  "language_info": {
   "codemirror_mode": {
    "name": "ipython",
    "version": 3
   },
   "file_extension": ".py",
   "mimetype": "text/x-python",
   "name": "python",
   "nbconvert_exporter": "python",
   "pygments_lexer": "ipython3",
   "version": "3.8.5"
  }
 },
 "nbformat": 4,
 "nbformat_minor": 5
}
