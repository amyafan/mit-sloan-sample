{
 "cells": [
  {
   "cell_type": "markdown",
   "id": "efcaf775",
   "metadata": {},
   "source": [
    "# Exploring balances in and out\n",
    "\n",
    "There's a few discrepancies in the data that I want to explore: \n",
    "\n",
    "* figure out why there was a swap between 2009 for retail and consumer finance revolving debt\n",
    "* figure out how many non zero balances there are for\n",
    "    * auto bank\n",
    "    * retail\n",
    "    * CFR\n",
    "    * and see if that explains jumps in balances \n",
    " \n",
    "## Setting up "
   ]
  },
  {
   "cell_type": "code",
   "execution_count": 1,
   "id": "2828c2bc",
   "metadata": {},
   "outputs": [],
   "source": [
    "# Setting up \n",
    "\n",
    "import pandas as pd\n",
    "import numpy as np\n",
    "\n",
    "pd.set_option('display.max_rows', None)\n",
    "pd.set_option('display.max_columns', None)\n",
    "pd.set_option('display.width', None)\n",
    "pd.set_option('display.max_colwidth', None)\n",
    "\n",
    "sample = \"~//projects//equifaxmacro_proj//EquiFax3//2_10_Percent_Sample_Construction//output//sample//\"\n",
    "output_3 = \"~//projects//equifaxmacro_proj//EquiFax3//3_Balance_In_And_Out_Construction//output//\""
   ]
  },
  {
   "cell_type": "code",
   "execution_count": 2,
   "id": "2f68a0af",
   "metadata": {},
   "outputs": [],
   "source": [
    "biao_str = output_3 + \"1_balance_in_and_out.parquet\"\n",
    "\n",
    "def monyr(monnum):\n",
    "\n",
    "    mon = (monnum + 5) % 12 + 1\n",
    "\n",
    "    if mon < 10: \n",
    "        MONNUM = \"0\" + str(mon)\n",
    "    else: \n",
    "        MONNUM = str(mon)\n",
    "\n",
    "    YRNUM = int(((monnum - mon)/12) + 2006)\n",
    "\n",
    "    DATE = str(YRNUM) + MONNUM\n",
    "    \n",
    "    return DATE;\n",
    "\n",
    "cols = [monyr(monnum) for monnum in range(1, 196)]\n",
    "\n",
    "iao = pd.read_parquet(biao_str, columns = cols).reset_index()"
   ]
  },
  {
   "cell_type": "markdown",
   "id": "844b93a1",
   "metadata": {},
   "source": [
    "## why was there a swap in the in the number of consumer finance revolving balances? "
   ]
  },
  {
   "cell_type": "code",
   "execution_count": null,
   "id": "a9b7abd3",
   "metadata": {},
   "outputs": [],
   "source": [
    "iao.head()"
   ]
  },
  {
   "cell_type": "code",
   "execution_count": null,
   "id": "4ca0ebcf",
   "metadata": {},
   "outputs": [],
   "source": [
    "iao['num'] = iao.count(axis = 1)"
   ]
  },
  {
   "cell_type": "code",
   "execution_count": null,
   "id": "6df0a703",
   "metadata": {},
   "outputs": [],
   "source": [
    "iao.num.value_counts()"
   ]
  },
  {
   "cell_type": "code",
   "execution_count": null,
   "id": "4600e28d",
   "metadata": {},
   "outputs": [],
   "source": [
    "# only keep tradelines that are active during this time period\n",
    "biao = iao[iao.num != 0]"
   ]
  },
  {
   "cell_type": "code",
   "execution_count": null,
   "id": "74a4dcf2",
   "metadata": {},
   "outputs": [],
   "source": [
    "biao.shape"
   ]
  },
  {
   "cell_type": "code",
   "execution_count": null,
   "id": "a681cc12",
   "metadata": {},
   "outputs": [],
   "source": [
    "biao = biao.drop('num', axis =1).reset_index()"
   ]
  },
  {
   "cell_type": "code",
   "execution_count": null,
   "id": "80b6a0e8",
   "metadata": {},
   "outputs": [],
   "source": [
    "biao.head()"
   ]
  },
  {
   "cell_type": "code",
   "execution_count": null,
   "id": "81868698",
   "metadata": {},
   "outputs": [],
   "source": [
    "# this shows the massive jumps\n",
    "biao.drop(['consumer_id', 'trade_id'], axis = 1).groupby('product_category').count()"
   ]
  },
  {
   "cell_type": "code",
   "execution_count": null,
   "id": "4136d97c",
   "metadata": {},
   "outputs": [],
   "source": [
    "biao_2 = biao[biao.product_category.isin(['CFR', 'RT'])].set_index(['consumer_id', 'trade_id', 'product_category'])"
   ]
  },
  {
   "cell_type": "code",
   "execution_count": null,
   "id": "ca6eac7a",
   "metadata": {},
   "outputs": [],
   "source": [
    "biao_isnan = np.isnan(biao_2) * 1 \n",
    "biao_g1 = (biao_2 > 0) * 1"
   ]
  },
  {
   "cell_type": "code",
   "execution_count": null,
   "id": "1baaa38d",
   "metadata": {},
   "outputs": [],
   "source": [
    "# how many non-zero tradelines are there each month? By type\n",
    "biao_g1.reset_index().drop(['consumer_id', 'trade_id'], axis = 1).groupby('product_category').sum()"
   ]
  },
  {
   "cell_type": "code",
   "execution_count": null,
   "id": "db69492e",
   "metadata": {},
   "outputs": [],
   "source": [
    "# how many zero tradelines are there? \n",
    "# zero means isnan returns false, and >0 also returns false\n",
    "\n",
    "biao_0 = ((biao_isnan + biao_g1) == 0) * 1\n",
    "biao_0.reset_index().drop(['consumer_id', 'trade_id'], axis = 1).groupby('product_category').sum()"
   ]
  },
  {
   "cell_type": "markdown",
   "id": "fa1bb59e",
   "metadata": {},
   "source": [
    "# percentiles for non-zero balances"
   ]
  },
  {
   "cell_type": "code",
   "execution_count": null,
   "id": "162ebaaa",
   "metadata": {},
   "outputs": [],
   "source": [
    "biao_replace_0 = biao.set_index(['consumer_id','trade_id', 'product_category']).replace(0, np.NaN)"
   ]
  },
  {
   "cell_type": "code",
   "execution_count": null,
   "id": "d35d7d70",
   "metadata": {},
   "outputs": [],
   "source": [
    "biao_replace_0.head()"
   ]
  },
  {
   "cell_type": "code",
   "execution_count": null,
   "id": "74bf475f",
   "metadata": {},
   "outputs": [],
   "source": [
    "biao_replace_0.reset_index().drop(['consumer_id', 'trade_id'], axis = 1).groupby('product_category').describe()"
   ]
  },
  {
   "cell_type": "markdown",
   "id": "0b915b75",
   "metadata": {},
   "source": [
    "So it looks like the balances jump drastically even when you take out the zero balances \n",
    "\n",
    "Interestingly enough, it looks like the retrail balances don't jump too much. "
   ]
  },
  {
   "cell_type": "code",
   "execution_count": null,
   "id": "37a2ec80",
   "metadata": {},
   "outputs": [],
   "source": [
    "biao.head(10)"
   ]
  },
  {
   "cell_type": "code",
   "execution_count": null,
   "id": "5322a5c7",
   "metadata": {},
   "outputs": [],
   "source": [
    "a  = biao[['consumer_id', 'product_category']].value_counts()\n",
    "a.head()"
   ]
  },
  {
   "cell_type": "code",
   "execution_count": null,
   "id": "bd6fa4fb",
   "metadata": {},
   "outputs": [],
   "source": [
    "a.reset_index().consumer_id.value_counts().value_counts()"
   ]
  },
  {
   "cell_type": "markdown",
   "id": "7f7b2524",
   "metadata": {},
   "source": [
    "so, two thirds of people have both RT and CFR loans. What kind of tradelines enter and exit? "
   ]
  },
  {
   "cell_type": "code",
   "execution_count": null,
   "id": "28d27427",
   "metadata": {},
   "outputs": [],
   "source": [
    "diff = pd.DataFrame(np.diff((biao_isnan == 0) * 1))"
   ]
  },
  {
   "cell_type": "code",
   "execution_count": null,
   "id": "d6f41bb8",
   "metadata": {},
   "outputs": [],
   "source": [
    "diff.index = biao_isnan.index"
   ]
  },
  {
   "cell_type": "code",
   "execution_count": null,
   "id": "d36a810c",
   "metadata": {},
   "outputs": [],
   "source": [
    "diff.head(10)"
   ]
  },
  {
   "cell_type": "code",
   "execution_count": null,
   "id": "dddda33b",
   "metadata": {},
   "outputs": [],
   "source": [
    "diff = diff[diff[1] != 0]"
   ]
  },
  {
   "cell_type": "code",
   "execution_count": null,
   "id": "abf23ec7",
   "metadata": {},
   "outputs": [],
   "source": [
    "# number of people with a CFR or RT tradeline entering/leaving\n",
    "len(diff.reset_index().consumer_id.unique())"
   ]
  },
  {
   "cell_type": "markdown",
   "id": "858e4521",
   "metadata": {},
   "source": [
    "Wait this is like a third of the sample "
   ]
  },
  {
   "cell_type": "code",
   "execution_count": null,
   "id": "5212b4ee",
   "metadata": {},
   "outputs": [],
   "source": [
    "diff.reset_index()[['consumer_id','product_category']].value_counts().reset_index().consumer_id.value_counts().value_counts()"
   ]
  },
  {
   "cell_type": "markdown",
   "id": "aa733dd6",
   "metadata": {},
   "source": [
    "Okay, the vast majority of people swapped tradelines of some sort it looks like \n",
    "\n",
    "# retail tradelines that entered"
   ]
  },
  {
   "cell_type": "code",
   "execution_count": null,
   "id": "3e79f839",
   "metadata": {},
   "outputs": [],
   "source": [
    "RT_exit = diff[diff[1] == 1].reset_index()\n",
    "RT_exit.head()"
   ]
  },
  {
   "cell_type": "code",
   "execution_count": null,
   "id": "26c757ee",
   "metadata": {},
   "outputs": [],
   "source": [
    "RT_exit = RT_exit.loc[RT_exit.product_category == \"RT\", 'trade_id']"
   ]
  },
  {
   "cell_type": "code",
   "execution_count": null,
   "id": "a6cdd57d",
   "metadata": {},
   "outputs": [],
   "source": [
    "RT_exit_bal = biao[biao.trade_id.isin(RT_exit)].set_index(['consumer_id', 'product_category', 'trade_id'])"
   ]
  },
  {
   "cell_type": "code",
   "execution_count": null,
   "id": "39a5f92c",
   "metadata": {},
   "outputs": [],
   "source": [
    "RT_exit_bal.reset_index().groupby('product_category').count()"
   ]
  },
  {
   "cell_type": "markdown",
   "id": "ae62673f",
   "metadata": {},
   "source": [
    "Okay, so a lot of these tradelines changed classifications "
   ]
  },
  {
   "cell_type": "code",
   "execution_count": null,
   "id": "94f755d2",
   "metadata": {},
   "outputs": [],
   "source": [
    "RT_exit_bal.reset_index().groupby('product_category').mean()"
   ]
  },
  {
   "cell_type": "markdown",
   "id": "bb8f3504",
   "metadata": {},
   "source": [
    "  Even after looking at all kinds of debt, it looks like 101k are bankcards that changed type and about 475k are CFR that changed type. Of the 1.2 million new RT tradelines, this explains a bit under half. \n",
    "  \n",
    "  ## how many retail tradelines left that month? "
   ]
  },
  {
   "cell_type": "code",
   "execution_count": null,
   "id": "052a9330",
   "metadata": {},
   "outputs": [],
   "source": [
    "RT_ent = diff[diff[1] == -1].reset_index()\n",
    "RT_ent = RT_ent.loc[RT_ent.product_category == \"RT\", 'trade_id']"
   ]
  },
  {
   "cell_type": "code",
   "execution_count": null,
   "id": "728a3260",
   "metadata": {},
   "outputs": [],
   "source": [
    "RT_ent_bal = biao[biao.trade_id.isin(RT_ent)].set_index(['consumer_id', 'product_category', 'trade_id'])"
   ]
  },
  {
   "cell_type": "code",
   "execution_count": null,
   "id": "cfac3f2d",
   "metadata": {},
   "outputs": [],
   "source": [
    "RT_ent_bal.reset_index().groupby('product_category').count()"
   ]
  },
  {
   "cell_type": "code",
   "execution_count": null,
   "id": "fe38b626",
   "metadata": {},
   "outputs": [],
   "source": [
    "RT_ent_bal.reset_index().groupby('product_category').mean()"
   ]
  },
  {
   "cell_type": "markdown",
   "id": "b7067d91",
   "metadata": {},
   "source": [
    "## What about CFR tradelines that all left? Their balances all jumped too "
   ]
  },
  {
   "cell_type": "code",
   "execution_count": null,
   "id": "724f3ac9",
   "metadata": {},
   "outputs": [],
   "source": [
    "CFR_exit = diff[diff[1] == -1].reset_index()\n",
    "CFR_exit = CFR_exit.loc[CFR_exit.product_category == \"CFR\", 'trade_id']\n",
    "CFR_exit_bal = biao[biao.trade_id.isin(CFR_exit)].set_index(['consumer_id', 'product_category', 'trade_id'])"
   ]
  },
  {
   "cell_type": "code",
   "execution_count": null,
   "id": "27f77fd9",
   "metadata": {},
   "outputs": [],
   "source": [
    "CFR_exit_bal.reset_index().groupby('product_category').count()"
   ]
  },
  {
   "cell_type": "code",
   "execution_count": null,
   "id": "d5e33783",
   "metadata": {},
   "outputs": [],
   "source": [
    "CFR_exit_bal.reset_index().groupby('product_category').mean()"
   ]
  },
  {
   "cell_type": "code",
   "execution_count": null,
   "id": "c90b12b1",
   "metadata": {},
   "outputs": [],
   "source": [
    "# about half of the tradelines that disappeared became retail tradelines \n",
    "CFR_exit_bal.head(10)"
   ]
  },
  {
   "cell_type": "code",
   "execution_count": null,
   "id": "91a14151",
   "metadata": {},
   "outputs": [],
   "source": [
    "# let's look at the people, not just the tradelines \n",
    "\n",
    "CFR_exit = diff[diff[1] == -1].reset_index()\n",
    "CFR_exit_cids = CFR_exit.loc[CFR_exit.product_category == \"CFR\", 'consumer_id']\n",
    "CFR_exit_cids_bal = biao[biao.consumer_id.isin(CFR_exit_cids)].set_index(['consumer_id', 'product_category', 'trade_id'])"
   ]
  },
  {
   "cell_type": "code",
   "execution_count": null,
   "id": "b58123db",
   "metadata": {},
   "outputs": [],
   "source": [
    "CFR_exit_cids_bal.head(100)"
   ]
  },
  {
   "cell_type": "code",
   "execution_count": null,
   "id": "06a0c499",
   "metadata": {},
   "outputs": [],
   "source": [
    "biao.loc[biao.product_category==\"CFR\", 'consumer_id'].value_counts().value_counts()"
   ]
  },
  {
   "cell_type": "code",
   "execution_count": null,
   "id": "08cab1a0",
   "metadata": {},
   "outputs": [],
   "source": [
    "CFR = biao[biao.product_category==\"CFR\"]"
   ]
  },
  {
   "cell_type": "code",
   "execution_count": null,
   "id": "da02faf9",
   "metadata": {},
   "outputs": [],
   "source": [
    "CFR = CFR.replace(0, np.NaN)"
   ]
  },
  {
   "cell_type": "code",
   "execution_count": null,
   "id": "0adbc8cc",
   "metadata": {},
   "outputs": [],
   "source": [
    "CFR.iloc[:, 3:].describe()"
   ]
  },
  {
   "cell_type": "markdown",
   "id": "ca788500",
   "metadata": {},
   "source": [
    "It looks like most of the balances that left had lower balances on average (129 as opposed to closer to 175). Across a lot of balances, this makes a difference. \n",
    "\n",
    "Of the ones that went to retail, their balances were higher (about 220). \n",
    "\n",
    "I guess we should do this by person too? Not today though. "
   ]
  },
  {
   "cell_type": "markdown",
   "id": "b5895612",
   "metadata": {},
   "source": [
    "## Spike in Auto Bank Lease"
   ]
  },
  {
   "cell_type": "code",
   "execution_count": null,
   "id": "9e458847",
   "metadata": {},
   "outputs": [],
   "source": [
    "newcols = ['20150' + str(mon) for mon in range(5, 10)] + ['201510', '201511']"
   ]
  },
  {
   "cell_type": "code",
   "execution_count": null,
   "id": "5862d06f",
   "metadata": {},
   "outputs": [],
   "source": [
    "all_tl = pd.read_parquet(biao_str, columns = newcols)"
   ]
  },
  {
   "cell_type": "code",
   "execution_count": null,
   "id": "5b0ac155",
   "metadata": {},
   "outputs": [],
   "source": [
    "all_tl = all_tl.reset_index()"
   ]
  },
  {
   "cell_type": "code",
   "execution_count": null,
   "id": "04405de8",
   "metadata": {},
   "outputs": [],
   "source": [
    "abl = all_tl[all_tl.product_category == \"AB1\"]\n",
    "abl.shape"
   ]
  },
  {
   "cell_type": "code",
   "execution_count": null,
   "id": "e4928f03",
   "metadata": {},
   "outputs": [],
   "source": [
    "abl['num'] = abl.count(axis = 1)\n",
    "abl.num.value_counts()"
   ]
  },
  {
   "cell_type": "code",
   "execution_count": null,
   "id": "cc5c7197",
   "metadata": {},
   "outputs": [],
   "source": [
    "abl = abl[abl.num != 3].drop('num', axis = 1)"
   ]
  },
  {
   "cell_type": "code",
   "execution_count": null,
   "id": "a0f9fb2f",
   "metadata": {},
   "outputs": [],
   "source": [
    "abl.count()"
   ]
  },
  {
   "cell_type": "code",
   "execution_count": null,
   "id": "244dacb8",
   "metadata": {},
   "outputs": [],
   "source": [
    "abl.mean()"
   ]
  },
  {
   "cell_type": "markdown",
   "id": "e2ae7044",
   "metadata": {},
   "source": [
    "Again, there seems to be a drop in the number of tradelines the same month the balances jump"
   ]
  },
  {
   "cell_type": "code",
   "execution_count": null,
   "id": "6faf6902",
   "metadata": {},
   "outputs": [],
   "source": [
    "abl = abl.set_index(['consumer_id', 'product_category', 'trade_id'])"
   ]
  },
  {
   "cell_type": "code",
   "execution_count": null,
   "id": "402a51a2",
   "metadata": {},
   "outputs": [],
   "source": [
    "diff = pd.DataFrame(np.diff((~np.isnan(abl)) * 1))"
   ]
  },
  {
   "cell_type": "code",
   "execution_count": null,
   "id": "6d1435cf",
   "metadata": {},
   "outputs": [],
   "source": [
    "diff.head()"
   ]
  },
  {
   "cell_type": "code",
   "execution_count": null,
   "id": "45616dd5",
   "metadata": {},
   "outputs": [],
   "source": [
    "diff.index = abl.index"
   ]
  },
  {
   "cell_type": "code",
   "execution_count": null,
   "id": "701c9ae4",
   "metadata": {},
   "outputs": [],
   "source": [
    "diff.head()"
   ]
  },
  {
   "cell_type": "code",
   "execution_count": null,
   "id": "a3b1f566",
   "metadata": {},
   "outputs": [],
   "source": [
    "left = diff[diff[2]==-1]"
   ]
  },
  {
   "cell_type": "code",
   "execution_count": null,
   "id": "c8ec6024",
   "metadata": {},
   "outputs": [],
   "source": [
    "left_ids = left.reset_index().trade_id"
   ]
  },
  {
   "cell_type": "code",
   "execution_count": null,
   "id": "d6fbaf7c",
   "metadata": {},
   "outputs": [],
   "source": [
    "abl = abl.reset_index()\n",
    "abl.head()"
   ]
  },
  {
   "cell_type": "code",
   "execution_count": null,
   "id": "6557c1e6",
   "metadata": {},
   "outputs": [],
   "source": [
    "abl_left = abl[abl.trade_id.isin(left_ids)]"
   ]
  },
  {
   "cell_type": "code",
   "execution_count": null,
   "id": "46afe8eb",
   "metadata": {},
   "outputs": [],
   "source": [
    "abl_left.describe()"
   ]
  },
  {
   "cell_type": "markdown",
   "id": "61da23d6",
   "metadata": {},
   "source": [
    "The balaces are much lower than the average loan"
   ]
  },
  {
   "cell_type": "code",
   "execution_count": null,
   "id": "f31d9f56",
   "metadata": {},
   "outputs": [],
   "source": [
    "all_tl_abl_left = all_tl[all_tl.trade_id.isin(left_ids)]"
   ]
  },
  {
   "cell_type": "code",
   "execution_count": null,
   "id": "bdcfa000",
   "metadata": {},
   "outputs": [],
   "source": [
    "all_tl_abl_left.shape"
   ]
  },
  {
   "cell_type": "code",
   "execution_count": null,
   "id": "8661492b",
   "metadata": {},
   "outputs": [],
   "source": [
    "abl_left.shape"
   ]
  },
  {
   "cell_type": "code",
   "execution_count": null,
   "id": "a8872425",
   "metadata": {},
   "outputs": [],
   "source": [
    "all_tl_abl_left.product_category.value_counts()"
   ]
  },
  {
   "cell_type": "code",
   "execution_count": null,
   "id": "a236053d",
   "metadata": {},
   "outputs": [],
   "source": [
    "equal_zero = (abl_left == 0)"
   ]
  },
  {
   "cell_type": "code",
   "execution_count": null,
   "id": "931c5de7",
   "metadata": {},
   "outputs": [],
   "source": [
    "equal_zero.sum()"
   ]
  },
  {
   "cell_type": "code",
   "execution_count": null,
   "id": "fc1fdb7c",
   "metadata": {},
   "outputs": [],
   "source": [
    "equal_zero.shape"
   ]
  },
  {
   "cell_type": "markdown",
   "id": "d6dbf08f",
   "metadata": {},
   "source": [
    "Okay, so it looks like the jump in balances is just because a lot of zero balances were deleted. \n",
    "\n",
    "## spike in retail july 2013 "
   ]
  },
  {
   "cell_type": "code",
   "execution_count": null,
   "id": "530eb717",
   "metadata": {},
   "outputs": [],
   "source": [
    "cols3 = ['201306', '201307', '201308']\n",
    "\n",
    "rt_all = pd.read_parquet(biao_str, columns =cols3)"
   ]
  },
  {
   "cell_type": "code",
   "execution_count": null,
   "id": "0d353147",
   "metadata": {},
   "outputs": [],
   "source": [
    "rt_all.head()"
   ]
  },
  {
   "cell_type": "code",
   "execution_count": null,
   "id": "0bdc190e",
   "metadata": {},
   "outputs": [],
   "source": [
    "# we only want to look at the retail tradelines\n",
    "rt_all = rt_all.reset_index()"
   ]
  },
  {
   "cell_type": "code",
   "execution_count": null,
   "id": "fabbda68",
   "metadata": {},
   "outputs": [],
   "source": [
    "retail = rt_all[rt_all.product_category==\"RT\"]\n",
    "retail.shape"
   ]
  },
  {
   "cell_type": "code",
   "execution_count": null,
   "id": "192e87c6",
   "metadata": {},
   "outputs": [],
   "source": [
    "retail.head()"
   ]
  },
  {
   "cell_type": "code",
   "execution_count": null,
   "id": "1c5e5890",
   "metadata": {},
   "outputs": [],
   "source": [
    "retail.describe()"
   ]
  },
  {
   "cell_type": "code",
   "execution_count": null,
   "id": "e956d1e5",
   "metadata": {},
   "outputs": [],
   "source": [
    "retail = retail.drop('index', axis = 1)\n",
    "retail['num'] = retail.count(axis = 1)\n",
    "retail = retail[retail.num != 3]\n",
    "retail.shape"
   ]
  },
  {
   "cell_type": "code",
   "execution_count": null,
   "id": "dad314c0",
   "metadata": {},
   "outputs": [],
   "source": [
    "retail.drop('num', axis = 1, inplace = True)"
   ]
  },
  {
   "cell_type": "code",
   "execution_count": null,
   "id": "4773789e",
   "metadata": {},
   "outputs": [],
   "source": [
    "retail.head()"
   ]
  },
  {
   "cell_type": "code",
   "execution_count": null,
   "id": "ba6d07b2",
   "metadata": {},
   "outputs": [],
   "source": [
    "by_person = retail.groupby('consumer_id').sum()"
   ]
  },
  {
   "cell_type": "code",
   "execution_count": null,
   "id": "b6a9003d",
   "metadata": {},
   "outputs": [],
   "source": [
    "by_person = by_person.sort_values('201307', ascending = False)"
   ]
  },
  {
   "cell_type": "code",
   "execution_count": null,
   "id": "292bc321",
   "metadata": {},
   "outputs": [],
   "source": [
    "by_person.head()"
   ]
  },
  {
   "cell_type": "code",
   "execution_count": null,
   "id": "f1d85fb1",
   "metadata": {},
   "outputs": [],
   "source": [
    "retail[retail.consumer_id.isin([14605648, 10082721])]"
   ]
  },
  {
   "cell_type": "markdown",
   "id": "ff03977a",
   "metadata": {},
   "source": [
    "lol just a data error"
   ]
  },
  {
   "cell_type": "markdown",
   "id": "98b656b6",
   "metadata": {},
   "source": [
    "### How many people enter each month? "
   ]
  },
  {
   "cell_type": "code",
   "execution_count": null,
   "id": "ee890ae7",
   "metadata": {},
   "outputs": [],
   "source": [
    "biao_str = output_3 + \"1_balance_in_and_out.parquet\"\n",
    "\n",
    "cols = ['first_c']\n",
    "\n",
    "first = pd.read_parquet(biao_str, columns = cols)"
   ]
  },
  {
   "cell_type": "code",
   "execution_count": null,
   "id": "60f0edd7",
   "metadata": {},
   "outputs": [],
   "source": [
    "first = first.reset_index(level = 'consumer_id')\n",
    "first.head()"
   ]
  },
  {
   "cell_type": "code",
   "execution_count": null,
   "id": "7667b8e4",
   "metadata": {},
   "outputs": [],
   "source": [
    "hmmm = first.groupby('consumer_id').min()"
   ]
  },
  {
   "cell_type": "code",
   "execution_count": null,
   "id": "c9fe4e00",
   "metadata": {},
   "outputs": [],
   "source": [
    "hmmm.first_c.value_counts().sort_index()"
   ]
  },
  {
   "cell_type": "markdown",
   "id": "9c08019b",
   "metadata": {},
   "source": [
    "## Consumer finance and retail debt\n",
    "\n",
    "* please redo this graph (with the number of tradelines) but combines retail and consumer finance and drop any tradelines that are zero throughout so that we can see if this is just a coding issue from equifax."
   ]
  },
  {
   "cell_type": "code",
   "execution_count": null,
   "id": "29bc1c26",
   "metadata": {},
   "outputs": [],
   "source": [
    "# filter for CFR and retail debt"
   ]
  },
  {
   "cell_type": "code",
   "execution_count": 3,
   "id": "cc2b663e",
   "metadata": {},
   "outputs": [],
   "source": [
    "iao = iao[iao.product_category.isin(['CFR', 'RT'])]"
   ]
  },
  {
   "cell_type": "code",
   "execution_count": 4,
   "id": "0921d0f2",
   "metadata": {},
   "outputs": [
    {
     "data": {
      "text/plain": [
       "(20928931, 198)"
      ]
     },
     "execution_count": 4,
     "metadata": {},
     "output_type": "execute_result"
    }
   ],
   "source": [
    "iao.shape"
   ]
  },
  {
   "cell_type": "code",
   "execution_count": 5,
   "id": "37101189",
   "metadata": {},
   "outputs": [],
   "source": [
    "iao = iao.set_index(['consumer_id', 'trade_id', 'product_category'])"
   ]
  },
  {
   "cell_type": "code",
   "execution_count": 6,
   "id": "69e7a8da",
   "metadata": {},
   "outputs": [],
   "source": [
    "# we just want to know which ones have all zero balances\n",
    "\n",
    "tf = (iao > 0) * 1"
   ]
  },
  {
   "cell_type": "code",
   "execution_count": 7,
   "id": "912c299f",
   "metadata": {},
   "outputs": [],
   "source": [
    "tf['sum'] = tf.sum(axis = 1)"
   ]
  },
  {
   "cell_type": "code",
   "execution_count": 8,
   "id": "4ad8e61a",
   "metadata": {},
   "outputs": [
    {
     "data": {
      "text/plain": [
       "consumer_id  trade_id   product_category\n",
       "2            264760648  RT                  0\n",
       "             343581827  RT                  0\n",
       "             484441807  RT                  0\n",
       "             488067225  RT                  4\n",
       "             865192063  RT                  0\n",
       "Name: sum, dtype: int64"
      ]
     },
     "execution_count": 8,
     "metadata": {},
     "output_type": "execute_result"
    }
   ],
   "source": [
    "tf['sum'].head()"
   ]
  },
  {
   "cell_type": "code",
   "execution_count": 9,
   "id": "0d95f14f",
   "metadata": {},
   "outputs": [],
   "source": [
    "tf = tf[tf['sum'] != 0] "
   ]
  },
  {
   "cell_type": "code",
   "execution_count": 10,
   "id": "88dcbbd3",
   "metadata": {},
   "outputs": [
    {
     "data": {
      "text/plain": [
       "(11425203, 196)"
      ]
     },
     "execution_count": 10,
     "metadata": {},
     "output_type": "execute_result"
    }
   ],
   "source": [
    "tf.shape"
   ]
  },
  {
   "cell_type": "code",
   "execution_count": 11,
   "id": "71abdbde",
   "metadata": {},
   "outputs": [],
   "source": [
    "nonzero_ids = tf.reset_index()['trade_id']"
   ]
  },
  {
   "cell_type": "code",
   "execution_count": 12,
   "id": "04896d4a",
   "metadata": {},
   "outputs": [],
   "source": [
    "iao = iao.reset_index()\n",
    "iao = iao[iao.trade_id.isin(nonzero_ids)]"
   ]
  },
  {
   "cell_type": "code",
   "execution_count": 13,
   "id": "52db7896",
   "metadata": {},
   "outputs": [
    {
     "data": {
      "text/plain": [
       "(11588148, 198)"
      ]
     },
     "execution_count": 13,
     "metadata": {},
     "output_type": "execute_result"
    }
   ],
   "source": [
    "iao.shape"
   ]
  },
  {
   "cell_type": "code",
   "execution_count": 17,
   "id": "68fb87a8",
   "metadata": {},
   "outputs": [
    {
     "data": {
      "text/plain": [
       "<AxesSubplot:>"
      ]
     },
     "execution_count": 17,
     "metadata": {},
     "output_type": "execute_result"
    },
    {
     "data": {
      "image/png": "[encoded data removed]",
      "text/plain": [
       "<Figure size 432x288 with 1 Axes>"
      ]
     },
     "metadata": {
      "needs_background": "light"
     },
     "output_type": "display_data"
    }
   ],
   "source": [
    "iao.count()[3:].plot()"
   ]
  },
  {
   "cell_type": "code",
   "execution_count": null,
   "id": "c6ad77a2",
   "metadata": {},
   "outputs": [],
   "source": [
    "iao.mean()[3:].plot()"
   ]
  },
  {
   "cell_type": "code",
   "execution_count": null,
   "id": "d032ae98",
   "metadata": {},
   "outputs": [],
   "source": []
  }
 ],
 "metadata": {
  "kernelspec": {
   "display_name": "Python 3 (ipykernel)",
   "language": "python",
   "name": "python3"
  },
  "language_info": {
   "codemirror_mode": {
    "name": "ipython",
    "version": 3
   },
   "file_extension": ".py",
   "mimetype": "text/x-python",
   "name": "python",
   "nbconvert_exporter": "python",
   "pygments_lexer": "ipython3",
   "version": "3.8.5"
  }
 },
 "nbformat": 4,
 "nbformat_minor": 5
}
