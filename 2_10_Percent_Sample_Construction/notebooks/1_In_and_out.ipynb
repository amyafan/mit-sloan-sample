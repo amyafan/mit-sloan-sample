{
 "cells": [
  {
   "cell_type": "markdown",
   "id": "2aa6d8fb",
   "metadata": {},
   "source": [
    "# In and out\n",
    "\n",
    "we want to see how people come in and out of the data. We will also use this to construct the sample. "
   ]
  },
  {
   "cell_type": "code",
   "execution_count": null,
   "id": "29fcc752",
   "metadata": {},
   "outputs": [],
   "source": [
    "import pandas as pd\n",
    "import numpy as np\n",
    "import glob\n",
    "import os\n",
    "\n",
    "pd.set_option('display.max_rows', None)\n",
    "pd.set_option('display.max_columns', None)\n",
    "pd.set_option('display.width', None)\n",
    "pd.set_option('display.max_colwidth', None)\n",
    "\n",
    "output_1 = \"~//projects//equifaxmacro_proj//EquiFax3//1_Full_Sample_Exploration//output//\"\n",
    "data = \"//nfs//sloanlab001//data//EquiFax3//raw//analyticsADX//\"\n"
   ]
  },
  {
   "cell_type": "code",
   "execution_count": null,
   "id": "4e1c0f53",
   "metadata": {},
   "outputs": [],
   "source": [
    "samplestr = output_1 + \"1_sample_ids.parquet\"\n",
    "sample = pd.read_parquet(samplestr)"
   ]
  },
  {
   "cell_type": "code",
   "execution_count": null,
   "id": "71ced1df",
   "metadata": {},
   "outputs": [],
   "source": [
    "sample.head()"
   ]
  },
  {
   "cell_type": "code",
   "execution_count": null,
   "id": "7e6cf433",
   "metadata": {},
   "outputs": [],
   "source": [
    "# take one month, loop through all the files and pull together all the files that are from that month\n",
    "\n",
    "mon = \"200507\"\n",
    "\n",
    "# Now we'll navigate to the folder for that month.\n",
    "\n",
    "subfolder = data + mon + \"//\"\n",
    "\n",
    "csize = 10 ** 6 # 1 GB chunks\n",
    "\n",
    "count = 0 \n",
    "\n",
    "chunklist = []\n",
    "\n",
    "for file in os.listdir(subfolder):\n",
    "    \n",
    "    fileloc = subfolder + file\n",
    "    \n",
    "    print(f\"\\nFile number {count}\")\n",
    "    \n",
    "    nchunk = 0\n",
    "    \n",
    "    # read in the first row to see how many columns there are \n",
    "    with pd.read_csv(fileloc, header = None, chunksize = csize) as reader:\n",
    "        for chunk in reader:\n",
    "            temp = chunk[chunk[0].isin(sample['consumer_id'])]\n",
    "            \n",
    "            chunklist.append(temp)\n",
    "            \n",
    "            nchunk = nchunk + 1\n",
    "            \n",
    "            print(f\"Done with chunk {nchunk}\")\n",
    "            \n",
    "    count = count + 1\n"
   ]
  },
  {
   "cell_type": "code",
   "execution_count": null,
   "id": "4b1e6763",
   "metadata": {},
   "outputs": [],
   "source": [
    "# concatenate all the chunklists here \n",
    "len(chunklist)"
   ]
  },
  {
   "cell_type": "code",
   "execution_count": null,
   "id": "862f2d01",
   "metadata": {},
   "outputs": [],
   "source": [
    "a = pd.concat(chunklist)"
   ]
  },
  {
   "cell_type": "code",
   "execution_count": null,
   "id": "25ea5352",
   "metadata": {},
   "outputs": [],
   "source": [
    "a.shape\n",
    "a.columns = ['consumer_id',\n",
    "'archive_date',\n",
    "'zip_code',\n",
    "'inquiries_12_months',\n",
    "'age_oldest_account',\n",
    "'age_oldest_mortgage_account',\n",
    "'age_newest_account',\n",
    "'number_of_accounts',\n",
    "'number_accounts_opened_within_12_months',\n",
    "'number_accounts_always_satisfactory',\n",
    "'number_accounts_major_derogatory',\n",
    "'number_revolving_accts_greater_than_or_equal_to_50_percent_utilization',\n",
    "'bankcard_accts_over_75_percent_utilization',\n",
    "'number_accounts_past_due',\n",
    "'total_past_due_amount',\n",
    "'bankruptcy_flag',\n",
    "'foreclosure_flag',\n",
    "'number_3rd_party_collection_accts',\n",
    "'total_amount_3rd_party_collections',\n",
    "'number_open_bankcard_accounts',\n",
    "'number_open_mortgage_accounts',\n",
    "'vantage_score_3',\n",
    "'state',\n",
    "'trade_id',\n",
    "'origination_date_open',\n",
    "'origination_portfolio_type',\n",
    "'origination_product_category',\n",
    "'origination_vantage_score3',\n",
    "'product_category',\n",
    "'small_business_owner_flag',\n",
    "'pim_score',\n",
    "'consumer_age',\n",
    "'mortgage_indicator',\n",
    "'deceased_consumer',\n",
    "'terms',\n",
    "'status_category',\n",
    "'balance',\n",
    "'high_credit',\n",
    "'monthly_payment',\n",
    "'portfolio_type',\n",
    "'transferred_sold_flag',\n",
    "# 'new_origination_flag',\n",
    "'date_reported',\n",
    "'narrcode_1',\n",
    "'narrcode_2',\n",
    "'narrcode_3',\n",
    "'narrcode_4',\n",
    "'ecoa',\n",
    "'rate_status',\n",
    "'scheduled_payment_amount',\n",
    "'date_of_last_activity',\n",
    "'date_of_last_payment',\n",
    "'actual_payment_amount',\n",
    "'payment_frequency',\n",
    "'account_type',\n",
    "'activity_designator',\n",
    "'origination_vantage_score4',\n",
    "'origination_Bankruptcy_Navigator_Index',\n",
    "'origination_Consumer_Income_Score',\n",
    "'vantage_score_4',\n",
    "'bankruptcy_Navigator_Index',\n",
    "'consumer_Income_Score',\n",
    "'revolver_Transactor_Behavior_Last_6_Months',\n",
    "'revolver_Transactor_Behavior_Last_12_Months',\n",
    "'revolver_Transactor_Behavior_Last_24_Months',\n",
    "'percent_Actual_Payment_to_Scheduled_Payment_Auto_Last_6_Months',\n",
    "'percent_Actual_Payment_to_Scheduled_Payment_Auto_Last_12_Months',\n",
    "'percent_Actual_Payment_to_Scheduled_Payment_Auto_Last_24_Months',\n",
    "'percent_Actual_Payment_to_Scheduled_Payment_Mortage_Last_6_Months',\n",
    "'percent_Actual_Payment_to_Scheduled_Payment_Mortage_Last_12_Months',\n",
    "'percent_Actual_Payment_to_Scheduled_Payment_Mortage_Last_24_Months',\n",
    "'mortgage_inquiries_last_1_month',\n",
    "'potential_Mortgage_inquiries_last_1_month',\n",
    "'origination_Industry_code',\n",
    "'industry_code',\n",
    "'consumer_age_archive',\n",
    "'joint_Holders_In_Set',\n",
    "'weight',\n",
    "'m_y', # not included\n",
    "'csv_name', # not included \n",
    "'id_num'] # not included"
   ]
  },
  {
   "cell_type": "code",
   "execution_count": null,
   "id": "66052af6",
   "metadata": {},
   "outputs": [],
   "source": [
    "a.to_parquet(input + \"temp.parquet\")"
   ]
  },
  {
   "cell_type": "code",
   "execution_count": null,
   "id": "0f605fa8",
   "metadata": {},
   "outputs": [],
   "source": []
  }
 ],
 "metadata": {
  "kernelspec": {
   "display_name": "Python 3 (ipykernel)",
   "language": "python",
   "name": "python3"
  },
  "language_info": {
   "codemirror_mode": {
    "name": "ipython",
    "version": 3
   },
   "file_extension": ".py",
   "mimetype": "text/x-python",
   "name": "python",
   "nbconvert_exporter": "python",
   "pygments_lexer": "ipython3",
   "version": "3.8.8"
  }
 },
 "nbformat": 4,
 "nbformat_minor": 5
}
